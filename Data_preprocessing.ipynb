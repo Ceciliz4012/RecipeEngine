{
  "nbformat": 4,
  "nbformat_minor": 0,
  "metadata": {
    "colab": {
      "name": "Data preprocessing.ipynb",
      "provenance": [],
      "collapsed_sections": []
    },
    "kernelspec": {
      "name": "python3",
      "display_name": "Python 3"
    },
    "language_info": {
      "name": "python"
    },
    "accelerator": "GPU"
  },
  "cells": [
    {
      "cell_type": "markdown",
      "metadata": {
        "id": "x-cfMugTTtv9"
      },
      "source": [
        "# CIS450 Project Data Preprocessing"
      ]
    },
    {
      "cell_type": "code",
      "metadata": {
        "id": "VQ9MmCZFTm6a"
      },
      "source": [
        "import numpy as np\n",
        "import pandas as pd\n",
        "from google.colab import drive"
      ],
      "execution_count": null,
      "outputs": []
    },
    {
      "cell_type": "markdown",
      "metadata": {
        "id": "LIJtNwNKGtc5"
      },
      "source": [
        "# Load dataset"
      ]
    },
    {
      "cell_type": "code",
      "metadata": {
        "colab": {
          "base_uri": "https://localhost:8080/"
        },
        "id": "7hTUxywy4zqN",
        "outputId": "31895eaf-e0ea-4730-859b-6f8fd71ce046"
      },
      "source": [
        "# load dataset\n",
        "url_links = {'clean_recipes': 'https://drive.google.com/file/d/1d5ay_B1mncYgn3ZBu3dFyA3bC1c9bW2G/view?usp=sharing',\n",
        "             'cleaned_reviews': 'https://drive.google.com/file/d/185G9kPe1RR-PWMJ2VRDc91HbGav4DK-V/view?usp=sharing',\n",
        "             'pp_recipes':'https://drive.google.com/file/d/17Zj_uh3Z1VxmjmZodinQKevJ3Wdf9tkS/view?usp=sharing',\n",
        "             'pp_users':'https://drive.google.com/file/d/1ZhBIhbe6ZQjSRpxQIlrROiyIJQw1R5bO/view?usp=sharing',\n",
        "             }\n",
        "df = {}\n",
        "for i in list(url_links.keys()):\n",
        "  path = 'https://drive.google.com/uc?export=download&id='+url_links[i].split('/')[-2]\n",
        "  df[i] = pd.read_csv(path, sep='delimiter')\n"
      ],
      "execution_count": null,
      "outputs": [
        {
          "output_type": "stream",
          "text": [
            "/usr/local/lib/python3.7/dist-packages/ipykernel_launcher.py:10: ParserWarning: Falling back to the 'python' engine because the 'c' engine does not support regex separators (separators > 1 char and different from '\\s+' are interpreted as regex); you can avoid this warning by specifying engine='python'.\n",
            "  # Remove the CWD from sys.path while we load stuff.\n"
          ],
          "name": "stderr"
        }
      ]
    },
    {
      "cell_type": "code",
      "metadata": {
        "colab": {
          "base_uri": "https://localhost:8080/"
        },
        "id": "02pupWiFa_Qw",
        "outputId": "6c6fa867-0324-479a-8979-2512c96210ae"
      },
      "source": [
        "comments_df = pd.read_csv('https://www.dropbox.com/s/ccu9rk0sehv8ef7/reviews.csv?dl=1',sep='delimiter', encoding='cp1252')"
      ],
      "execution_count": null,
      "outputs": [
        {
          "output_type": "stream",
          "text": [
            "/usr/local/lib/python3.7/dist-packages/ipykernel_launcher.py:1: ParserWarning: Falling back to the 'python' engine because the 'c' engine does not support regex separators (separators > 1 char and different from '\\s+' are interpreted as regex); you can avoid this warning by specifying engine='python'.\n",
            "  \"\"\"Entry point for launching an IPython kernel.\n"
          ],
          "name": "stderr"
        }
      ]
    },
    {
      "cell_type": "markdown",
      "metadata": {
        "id": "poYvgXXTfmzg"
      },
      "source": [
        "# recipes df"
      ]
    },
    {
      "cell_type": "code",
      "metadata": {
        "id": "p9DWU4HS6_tT",
        "colab": {
          "base_uri": "https://localhost:8080/",
          "height": 470
        },
        "outputId": "75cee2cd-eb66-46f9-bca7-fe84d4947cce"
      },
      "source": [
        "recipes_df = pd.read_csv('https://drive.google.com/uc?export=download&id=1d5ay_B1mncYgn3ZBu3dFyA3bC1c9bW2G', sep='delimiter')\n",
        "# recipes_df\n",
        "cleaned_recipes_df = recipes_df['Recipe Name;Review Count;Recipe Photo;Author;Prepare Time;Cook Time;Total Time;Ingredients;Directions;RecipeID'].str.split(';',expand=True)\n",
        "#cleaned_recipes_df\n",
        "cleaned_recipes_df.columns = ['Recipe_name', 'Review_count','Recipe_photo','Author','Prepare_time','Cook_time','Total_time','Ingredients','Directions','RecipeID']\n",
        "cleaned_recipes_df = cleaned_recipes_df[['RecipeID', 'Recipe_name','Recipe_photo']]\n",
        "#cleaned_recipes_df\n",
        "#cleaned_recipes_df['Ingredient_list'] = cleaned_recipes_df.apply(lambda x: x['Ingredients'].split(\",\"), axis = 1)\n",
        "cleaned_recipes_df.drop_duplicates()\n",
        "cleaned_recipes_df\n",
        "\n",
        "# Brandy\n",
        "#from google.colab import files\n",
        "#def download_colab(df, file_name):\n",
        "#  df.to_csv(file_name)\n",
        "#  files.download(file_name)\n",
        "#download_colab(cleaned_recipes_df,'recipes.csv')"
      ],
      "execution_count": null,
      "outputs": [
        {
          "output_type": "stream",
          "text": [
            "/usr/local/lib/python3.7/dist-packages/ipykernel_launcher.py:1: ParserWarning: Falling back to the 'python' engine because the 'c' engine does not support regex separators (separators > 1 char and different from '\\s+' are interpreted as regex); you can avoid this warning by specifying engine='python'.\n",
            "  \"\"\"Entry point for launching an IPython kernel.\n"
          ],
          "name": "stderr"
        },
        {
          "output_type": "execute_result",
          "data": {
            "text/html": [
              "<div>\n",
              "<style scoped>\n",
              "    .dataframe tbody tr th:only-of-type {\n",
              "        vertical-align: middle;\n",
              "    }\n",
              "\n",
              "    .dataframe tbody tr th {\n",
              "        vertical-align: top;\n",
              "    }\n",
              "\n",
              "    .dataframe thead th {\n",
              "        text-align: right;\n",
              "    }\n",
              "</style>\n",
              "<table border=\"1\" class=\"dataframe\">\n",
              "  <thead>\n",
              "    <tr style=\"text-align: right;\">\n",
              "      <th></th>\n",
              "      <th>RecipeID</th>\n",
              "      <th>Recipe_name</th>\n",
              "      <th>Recipe_photo</th>\n",
              "    </tr>\n",
              "  </thead>\n",
              "  <tbody>\n",
              "    <tr>\n",
              "      <th>0</th>\n",
              "      <td>7000</td>\n",
              "      <td>Golden Crescent Rolls Recipe</td>\n",
              "      <td>https://images.media-allrecipes.com/userphotos...</td>\n",
              "    </tr>\n",
              "    <tr>\n",
              "      <th>1</th>\n",
              "      <td>7001</td>\n",
              "      <td>Poppy Seed Bread with Glaze Recipe</td>\n",
              "      <td>https://images.media-allrecipes.com/userphotos...</td>\n",
              "    </tr>\n",
              "    <tr>\n",
              "      <th>2</th>\n",
              "      <td>7003</td>\n",
              "      <td>Applesauce Bread I Recipe</td>\n",
              "      <td>https://images.media-allrecipes.com/userphotos...</td>\n",
              "    </tr>\n",
              "    <tr>\n",
              "      <th>3</th>\n",
              "      <td>7006</td>\n",
              "      <td>Apple Raisin Bread Recipe</td>\n",
              "      <td>https://images.media-allrecipes.com/userphotos...</td>\n",
              "    </tr>\n",
              "    <tr>\n",
              "      <th>4</th>\n",
              "      <td>7007</td>\n",
              "      <td>Buttermilk Oatmeal Bread Recipe</td>\n",
              "      <td>https://images.media-allrecipes.com/userphotos...</td>\n",
              "    </tr>\n",
              "    <tr>\n",
              "      <th>...</th>\n",
              "      <td>...</td>\n",
              "      <td>...</td>\n",
              "      <td>...</td>\n",
              "    </tr>\n",
              "    <tr>\n",
              "      <th>12346</th>\n",
              "      <td>27456</td>\n",
              "      <td>Hot Coffee Frosting Recipe</td>\n",
              "      <td>https://images.media-allrecipes.com/userphotos...</td>\n",
              "    </tr>\n",
              "    <tr>\n",
              "      <th>12347</th>\n",
              "      <td>27478</td>\n",
              "      <td>White Chocolate Blueberry Cheesecake Recipe</td>\n",
              "      <td>https://images.media-allrecipes.com/userphotos...</td>\n",
              "    </tr>\n",
              "    <tr>\n",
              "      <th>12348</th>\n",
              "      <td>27491</td>\n",
              "      <td>'Aunt Anne''s Coffee Cake Recipe '</td>\n",
              "      <td>https://images.media-allrecipes.com/userphotos...</td>\n",
              "    </tr>\n",
              "    <tr>\n",
              "      <th>12349</th>\n",
              "      <td>27511</td>\n",
              "      <td>Giant Ding Dong Cake Recipe</td>\n",
              "      <td>https://images.media-allrecipes.com/userphotos...</td>\n",
              "    </tr>\n",
              "    <tr>\n",
              "      <th>12350</th>\n",
              "      <td>27546</td>\n",
              "      <td>Peach Coffee Cake Recipe</td>\n",
              "      <td>https://images.media-allrecipes.com/userphotos...</td>\n",
              "    </tr>\n",
              "  </tbody>\n",
              "</table>\n",
              "<p>12351 rows × 3 columns</p>\n",
              "</div>"
            ],
            "text/plain": [
              "      RecipeID  ...                                       Recipe_photo\n",
              "0         7000  ...  https://images.media-allrecipes.com/userphotos...\n",
              "1         7001  ...  https://images.media-allrecipes.com/userphotos...\n",
              "2         7003  ...  https://images.media-allrecipes.com/userphotos...\n",
              "3         7006  ...  https://images.media-allrecipes.com/userphotos...\n",
              "4         7007  ...  https://images.media-allrecipes.com/userphotos...\n",
              "...        ...  ...                                                ...\n",
              "12346    27456  ...  https://images.media-allrecipes.com/userphotos...\n",
              "12347    27478  ...  https://images.media-allrecipes.com/userphotos...\n",
              "12348    27491  ...  https://images.media-allrecipes.com/userphotos...\n",
              "12349    27511  ...  https://images.media-allrecipes.com/userphotos...\n",
              "12350    27546  ...  https://images.media-allrecipes.com/userphotos...\n",
              "\n",
              "[12351 rows x 3 columns]"
            ]
          },
          "metadata": {
            "tags": []
          },
          "execution_count": 4
        }
      ]
    },
    {
      "cell_type": "code",
      "metadata": {
        "colab": {
          "base_uri": "https://localhost:8080/",
          "height": 416
        },
        "id": "EU3VIeaw3lhM",
        "outputId": "aed1464d-c5c7-4396-ca6e-dfc60804704a"
      },
      "source": [
        "cleaned_recipes_df.sort_values(by=['Recipe_name'])\n"
      ],
      "execution_count": null,
      "outputs": [
        {
          "output_type": "execute_result",
          "data": {
            "text/html": [
              "<div>\n",
              "<style scoped>\n",
              "    .dataframe tbody tr th:only-of-type {\n",
              "        vertical-align: middle;\n",
              "    }\n",
              "\n",
              "    .dataframe tbody tr th {\n",
              "        vertical-align: top;\n",
              "    }\n",
              "\n",
              "    .dataframe thead th {\n",
              "        text-align: right;\n",
              "    }\n",
              "</style>\n",
              "<table border=\"1\" class=\"dataframe\">\n",
              "  <thead>\n",
              "    <tr style=\"text-align: right;\">\n",
              "      <th></th>\n",
              "      <th>RecipeID</th>\n",
              "      <th>Recipe_name</th>\n",
              "      <th>Recipe_photo</th>\n",
              "    </tr>\n",
              "  </thead>\n",
              "  <tbody>\n",
              "    <tr>\n",
              "      <th>4974</th>\n",
              "      <td>13938</td>\n",
              "      <td>\"'Connie''s Zucchini \"\"Crab\"\" Cakes Recipe '\"</td>\n",
              "      <td>https://images.media-allrecipes.com/userphotos...</td>\n",
              "    </tr>\n",
              "    <tr>\n",
              "      <th>439</th>\n",
              "      <td>7595</td>\n",
              "      <td>'Absolutely Delicious ''Scratch'' Cake! Recipe '</td>\n",
              "      <td>https://images.media-allrecipes.com/images/795...</td>\n",
              "    </tr>\n",
              "    <tr>\n",
              "      <th>5738</th>\n",
              "      <td>14992</td>\n",
              "      <td>'Adam''s Dirt Cookies Recipe '</td>\n",
              "      <td>https://images.media-allrecipes.com/userphotos...</td>\n",
              "    </tr>\n",
              "    <tr>\n",
              "      <th>7951</th>\n",
              "      <td>18277</td>\n",
              "      <td>'Adele''s Summer Special Recipe '</td>\n",
              "      <td>https://images.media-allrecipes.com/userphotos...</td>\n",
              "    </tr>\n",
              "    <tr>\n",
              "      <th>9046</th>\n",
              "      <td>20539</td>\n",
              "      <td>'Adrienne''s Tom Ka Gai Recipe '</td>\n",
              "      <td>https://images.media-allrecipes.com/userphotos...</td>\n",
              "    </tr>\n",
              "    <tr>\n",
              "      <th>...</th>\n",
              "      <td>...</td>\n",
              "      <td>...</td>\n",
              "      <td>...</td>\n",
              "    </tr>\n",
              "    <tr>\n",
              "      <th>8768</th>\n",
              "      <td>20078</td>\n",
              "      <td>Zucchini and Onion Pancake Recipe</td>\n",
              "      <td>https://images.media-allrecipes.com/userphotos...</td>\n",
              "    </tr>\n",
              "    <tr>\n",
              "      <th>5556</th>\n",
              "      <td>14755</td>\n",
              "      <td>Zucchini and Pork Soup Recipe</td>\n",
              "      <td>https://images.media-allrecipes.com/userphotos...</td>\n",
              "    </tr>\n",
              "    <tr>\n",
              "      <th>7004</th>\n",
              "      <td>16781</td>\n",
              "      <td>Zucchini and Rice Casserole Recipe</td>\n",
              "      <td>https://images.media-allrecipes.com/userphotos...</td>\n",
              "    </tr>\n",
              "    <tr>\n",
              "      <th>4417</th>\n",
              "      <td>13126</td>\n",
              "      <td>Zuppa Toscana Recipe</td>\n",
              "      <td>https://images.media-allrecipes.com/userphotos...</td>\n",
              "    </tr>\n",
              "    <tr>\n",
              "      <th>8351</th>\n",
              "      <td>19113</td>\n",
              "      <td>Zweiback Cheesecake Recipe</td>\n",
              "      <td>https://images.media-allrecipes.com/images/795...</td>\n",
              "    </tr>\n",
              "  </tbody>\n",
              "</table>\n",
              "<p>12351 rows × 3 columns</p>\n",
              "</div>"
            ],
            "text/plain": [
              "     RecipeID  ...                                       Recipe_photo\n",
              "4974    13938  ...  https://images.media-allrecipes.com/userphotos...\n",
              "439      7595  ...  https://images.media-allrecipes.com/images/795...\n",
              "5738    14992  ...  https://images.media-allrecipes.com/userphotos...\n",
              "7951    18277  ...  https://images.media-allrecipes.com/userphotos...\n",
              "9046    20539  ...  https://images.media-allrecipes.com/userphotos...\n",
              "...       ...  ...                                                ...\n",
              "8768    20078  ...  https://images.media-allrecipes.com/userphotos...\n",
              "5556    14755  ...  https://images.media-allrecipes.com/userphotos...\n",
              "7004    16781  ...  https://images.media-allrecipes.com/userphotos...\n",
              "4417    13126  ...  https://images.media-allrecipes.com/userphotos...\n",
              "8351    19113  ...  https://images.media-allrecipes.com/images/795...\n",
              "\n",
              "[12351 rows x 3 columns]"
            ]
          },
          "metadata": {
            "tags": []
          },
          "execution_count": 6
        }
      ]
    },
    {
      "cell_type": "code",
      "metadata": {
        "id": "zRUK68mY5ijf"
      },
      "source": [
        "# convert the time data from string -> int (in minutes)\n",
        "\n",
        "def get_minutes(time_str):\n",
        "    v = time_str.split(' ')\n",
        "    if ('h' in time_str) & ('m' in time_str): \n",
        "      return int(v[0])*60 + int(v[2])\n",
        "\n",
        "    if 'h' not in time_str: \n",
        "      m = time_str.split(' ')\n",
        "      if v[0].isdigit():\n",
        "        return int(v[0])\n",
        "      else: \n",
        "        return 0\n",
        "    else:\n",
        "      h = time_str.split(' ')\n",
        "      return int(v[0])*60\n",
        "\n",
        "cleaned_recipes_df['Total_time'] = cleaned_recipes_df['Total_time'].apply(lambda x: get_minutes(x))\n",
        "cleaned_recipes_df.drop(cleaned_recipes_df.loc[cleaned_recipes_df['Total_time']==0].index, inplace=True)\n",
        "\n",
        "cleaned_recipes_df['Prepare_time'] = cleaned_recipes_df['Prepare_time'].apply(lambda x: get_minutes(x))\n",
        "cleaned_recipes_df.drop(cleaned_recipes_df.loc[cleaned_recipes_df['Prepare_time']==0].index, inplace=True)\n",
        "\n",
        "cleaned_recipes_df['Cook_time'] = cleaned_recipes_df['Cook_time'].apply(lambda x: get_minutes(x))\n",
        "cleaned_recipes_df.drop(cleaned_recipes_df.loc[cleaned_recipes_df['Cook_time']==0].index, inplace=True)"
      ],
      "execution_count": null,
      "outputs": []
    },
    {
      "cell_type": "code",
      "metadata": {
        "colab": {
          "base_uri": "https://localhost:8080/",
          "height": 416
        },
        "id": "7-9DWMOI3KEG",
        "outputId": "167bcb3c-88d4-4e58-9435-dde90cd1a6ee"
      },
      "source": [
        "cleaned_recipes_df"
      ],
      "execution_count": null,
      "outputs": [
        {
          "output_type": "execute_result",
          "data": {
            "text/html": [
              "<div>\n",
              "<style scoped>\n",
              "    .dataframe tbody tr th:only-of-type {\n",
              "        vertical-align: middle;\n",
              "    }\n",
              "\n",
              "    .dataframe tbody tr th {\n",
              "        vertical-align: top;\n",
              "    }\n",
              "\n",
              "    .dataframe thead th {\n",
              "        text-align: right;\n",
              "    }\n",
              "</style>\n",
              "<table border=\"1\" class=\"dataframe\">\n",
              "  <thead>\n",
              "    <tr style=\"text-align: right;\">\n",
              "      <th></th>\n",
              "      <th>RecipeID</th>\n",
              "      <th>Prepare_time</th>\n",
              "      <th>Cook_time</th>\n",
              "      <th>Total_time</th>\n",
              "      <th>Directions</th>\n",
              "    </tr>\n",
              "  </thead>\n",
              "  <tbody>\n",
              "    <tr>\n",
              "      <th>0</th>\n",
              "      <td>7000</td>\n",
              "      <td>25</td>\n",
              "      <td>15</td>\n",
              "      <td>190</td>\n",
              "      <td>Dissolve yeast in warm water.**Stir in sugar, ...</td>\n",
              "    </tr>\n",
              "    <tr>\n",
              "      <th>1</th>\n",
              "      <td>7001</td>\n",
              "      <td>15</td>\n",
              "      <td>60</td>\n",
              "      <td>80</td>\n",
              "      <td>'Preheat oven to 350 degrees F (175 degrees C)...</td>\n",
              "    </tr>\n",
              "    <tr>\n",
              "      <th>2</th>\n",
              "      <td>7003</td>\n",
              "      <td>10</td>\n",
              "      <td>80</td>\n",
              "      <td>90</td>\n",
              "      <td>Preheat oven to 350 degrees F (175 degrees C)....</td>\n",
              "    </tr>\n",
              "    <tr>\n",
              "      <th>3</th>\n",
              "      <td>7006</td>\n",
              "      <td>15</td>\n",
              "      <td>60</td>\n",
              "      <td>75</td>\n",
              "      <td>Preheat oven to 350 degrees F (175 degrees C)....</td>\n",
              "    </tr>\n",
              "    <tr>\n",
              "      <th>4</th>\n",
              "      <td>7007</td>\n",
              "      <td>10</td>\n",
              "      <td>60</td>\n",
              "      <td>100</td>\n",
              "      <td>Mix oats with buttermilk.  Let stand for 1/2 h...</td>\n",
              "    </tr>\n",
              "    <tr>\n",
              "      <th>...</th>\n",
              "      <td>...</td>\n",
              "      <td>...</td>\n",
              "      <td>...</td>\n",
              "      <td>...</td>\n",
              "      <td>...</td>\n",
              "    </tr>\n",
              "    <tr>\n",
              "      <th>12346</th>\n",
              "      <td>27456</td>\n",
              "      <td>30</td>\n",
              "      <td>30</td>\n",
              "      <td>60</td>\n",
              "      <td>'In a large bowl, combine confectioners'' suga...</td>\n",
              "    </tr>\n",
              "    <tr>\n",
              "      <th>12347</th>\n",
              "      <td>27478</td>\n",
              "      <td>20</td>\n",
              "      <td>60</td>\n",
              "      <td>80</td>\n",
              "      <td>Preheat oven to 275 degrees F (135 degrees C)....</td>\n",
              "    </tr>\n",
              "    <tr>\n",
              "      <th>12348</th>\n",
              "      <td>27491</td>\n",
              "      <td>20</td>\n",
              "      <td>25</td>\n",
              "      <td>45</td>\n",
              "      <td>Preheat oven to 350 degrees F (175 degrees C)....</td>\n",
              "    </tr>\n",
              "    <tr>\n",
              "      <th>12349</th>\n",
              "      <td>27511</td>\n",
              "      <td>25</td>\n",
              "      <td>50</td>\n",
              "      <td>135</td>\n",
              "      <td>Preheat oven to 350 degrees F (175 degrees C)....</td>\n",
              "    </tr>\n",
              "    <tr>\n",
              "      <th>12350</th>\n",
              "      <td>27546</td>\n",
              "      <td>15</td>\n",
              "      <td>50</td>\n",
              "      <td>65</td>\n",
              "      <td>Preheat oven to 350 degrees F (175 degrees C)....</td>\n",
              "    </tr>\n",
              "  </tbody>\n",
              "</table>\n",
              "<p>6409 rows × 5 columns</p>\n",
              "</div>"
            ],
            "text/plain": [
              "      RecipeID  ...                                         Directions\n",
              "0         7000  ...  Dissolve yeast in warm water.**Stir in sugar, ...\n",
              "1         7001  ...  'Preheat oven to 350 degrees F (175 degrees C)...\n",
              "2         7003  ...  Preheat oven to 350 degrees F (175 degrees C)....\n",
              "3         7006  ...  Preheat oven to 350 degrees F (175 degrees C)....\n",
              "4         7007  ...  Mix oats with buttermilk.  Let stand for 1/2 h...\n",
              "...        ...  ...                                                ...\n",
              "12346    27456  ...  'In a large bowl, combine confectioners'' suga...\n",
              "12347    27478  ...  Preheat oven to 275 degrees F (135 degrees C)....\n",
              "12348    27491  ...  Preheat oven to 350 degrees F (175 degrees C)....\n",
              "12349    27511  ...  Preheat oven to 350 degrees F (175 degrees C)....\n",
              "12350    27546  ...  Preheat oven to 350 degrees F (175 degrees C)....\n",
              "\n",
              "[6409 rows x 5 columns]"
            ]
          },
          "metadata": {
            "tags": []
          },
          "execution_count": 6
        }
      ]
    },
    {
      "cell_type": "code",
      "metadata": {
        "id": "i30Cc-WeGSM0"
      },
      "source": [
        "cleaned_recipes_df['Directions'] = cleaned_recipes_df['Directions'].apply(lambda x: x.replace(\"'\", \"\"))\n",
        "cleaned_recipes_df['Directions'] = cleaned_recipes_df['Directions'].apply(lambda x: x.replace('\"', ''))"
      ],
      "execution_count": null,
      "outputs": []
    },
    {
      "cell_type": "code",
      "metadata": {
        "colab": {
          "base_uri": "https://localhost:8080/"
        },
        "id": "aq25V7c2-UVY",
        "outputId": "8c39f11f-9b31-4bb4-8bb0-5cbc2154198e"
      },
      "source": [
        "cleaned_recipes_df.dtypes"
      ],
      "execution_count": null,
      "outputs": [
        {
          "output_type": "execute_result",
          "data": {
            "text/plain": [
              "RecipeID        object\n",
              "Prepare_time     int64\n",
              "Cook_time        int64\n",
              "Total_time       int64\n",
              "Directions      object\n",
              "dtype: object"
            ]
          },
          "metadata": {
            "tags": []
          },
          "execution_count": 11
        }
      ]
    },
    {
      "cell_type": "code",
      "metadata": {
        "id": "ixNVTtoIej5e"
      },
      "source": [
        "cleaned_recipes_df['Directions'] = cleaned_recipes_df['Directions'].astype('str')"
      ],
      "execution_count": null,
      "outputs": []
    },
    {
      "cell_type": "code",
      "metadata": {
        "colab": {
          "base_uri": "https://localhost:8080/",
          "height": 17
        },
        "id": "6N44jQ1-L_7n",
        "outputId": "9b37a62a-7c9f-427e-99d5-b2da2d3cb6b4"
      },
      "source": [
        "download_colab(cleaned_recipes_df,'logistics.csv')"
      ],
      "execution_count": null,
      "outputs": [
        {
          "output_type": "display_data",
          "data": {
            "application/javascript": [
              "\n",
              "    async function download(id, filename, size) {\n",
              "      if (!google.colab.kernel.accessAllowed) {\n",
              "        return;\n",
              "      }\n",
              "      const div = document.createElement('div');\n",
              "      const label = document.createElement('label');\n",
              "      label.textContent = `Downloading \"${filename}\": `;\n",
              "      div.appendChild(label);\n",
              "      const progress = document.createElement('progress');\n",
              "      progress.max = size;\n",
              "      div.appendChild(progress);\n",
              "      document.body.appendChild(div);\n",
              "\n",
              "      const buffers = [];\n",
              "      let downloaded = 0;\n",
              "\n",
              "      const channel = await google.colab.kernel.comms.open(id);\n",
              "      // Send a message to notify the kernel that we're ready.\n",
              "      channel.send({})\n",
              "\n",
              "      for await (const message of channel.messages) {\n",
              "        // Send a message to notify the kernel that we're ready.\n",
              "        channel.send({})\n",
              "        if (message.buffers) {\n",
              "          for (const buffer of message.buffers) {\n",
              "            buffers.push(buffer);\n",
              "            downloaded += buffer.byteLength;\n",
              "            progress.value = downloaded;\n",
              "          }\n",
              "        }\n",
              "      }\n",
              "      const blob = new Blob(buffers, {type: 'application/binary'});\n",
              "      const a = document.createElement('a');\n",
              "      a.href = window.URL.createObjectURL(blob);\n",
              "      a.download = filename;\n",
              "      div.appendChild(a);\n",
              "      a.click();\n",
              "      div.remove();\n",
              "    }\n",
              "  "
            ],
            "text/plain": [
              "<IPython.core.display.Javascript object>"
            ]
          },
          "metadata": {
            "tags": []
          }
        },
        {
          "output_type": "display_data",
          "data": {
            "application/javascript": [
              "download(\"download_77baa615-d9c5-4e57-887f-2305061bb901\", \"logistics.csv\", 3490200)"
            ],
            "text/plain": [
              "<IPython.core.display.Javascript object>"
            ]
          },
          "metadata": {
            "tags": []
          }
        }
      ]
    },
    {
      "cell_type": "code",
      "metadata": {
        "id": "7WzCSKvXBtby"
      },
      "source": [
        "recipe_author = cleaned_recipes_df[['RecipeID','Author']]"
      ],
      "execution_count": null,
      "outputs": []
    },
    {
      "cell_type": "markdown",
      "metadata": {
        "id": "nfEurRZ-fpwL"
      },
      "source": [
        "# ingredient df"
      ]
    },
    {
      "cell_type": "code",
      "metadata": {
        "id": "RDa9jmMHpXHe"
      },
      "source": [
        "ingredient_df = cleaned_recipes_df[['RecipeID','Ingredients']]"
      ],
      "execution_count": null,
      "outputs": []
    },
    {
      "cell_type": "code",
      "metadata": {
        "colab": {
          "base_uri": "https://localhost:8080/"
        },
        "id": "EyuLJ0tYBdos",
        "outputId": "a2322781-ab3e-4cc8-a67d-fabf81e7d8d5"
      },
      "source": [
        "ingredient_df['Ingredient_list'] = ingredient_df.apply(lambda x: x['Ingredients'].split(\",\"), axis = 1)"
      ],
      "execution_count": null,
      "outputs": [
        {
          "output_type": "stream",
          "text": [
            "/usr/local/lib/python3.7/dist-packages/ipykernel_launcher.py:1: SettingWithCopyWarning: \n",
            "A value is trying to be set on a copy of a slice from a DataFrame.\n",
            "Try using .loc[row_indexer,col_indexer] = value instead\n",
            "\n",
            "See the caveats in the documentation: https://pandas.pydata.org/pandas-docs/stable/user_guide/indexing.html#returning-a-view-versus-a-copy\n",
            "  \"\"\"Entry point for launching an IPython kernel.\n"
          ],
          "name": "stderr"
        }
      ]
    },
    {
      "cell_type": "code",
      "metadata": {
        "colab": {
          "base_uri": "https://localhost:8080/",
          "height": 419
        },
        "id": "D5twwpFtBtA1",
        "outputId": "0feee286-5620-4ac6-9166-7bdddf4e74f4"
      },
      "source": [
        "ingredient_df"
      ],
      "execution_count": null,
      "outputs": [
        {
          "output_type": "execute_result",
          "data": {
            "text/html": [
              "<div>\n",
              "<style scoped>\n",
              "    .dataframe tbody tr th:only-of-type {\n",
              "        vertical-align: middle;\n",
              "    }\n",
              "\n",
              "    .dataframe tbody tr th {\n",
              "        vertical-align: top;\n",
              "    }\n",
              "\n",
              "    .dataframe thead th {\n",
              "        text-align: right;\n",
              "    }\n",
              "</style>\n",
              "<table border=\"1\" class=\"dataframe\">\n",
              "  <thead>\n",
              "    <tr style=\"text-align: right;\">\n",
              "      <th></th>\n",
              "      <th>RecipeID</th>\n",
              "      <th>Ingredients</th>\n",
              "      <th>Ingredient_list</th>\n",
              "    </tr>\n",
              "  </thead>\n",
              "  <tbody>\n",
              "    <tr>\n",
              "      <th>0</th>\n",
              "      <td>7000</td>\n",
              "      <td>yeast,water,white sugar,salt,egg,butter,flour,...</td>\n",
              "      <td>[yeast, water, white sugar, salt, egg, butter,...</td>\n",
              "    </tr>\n",
              "    <tr>\n",
              "      <th>1</th>\n",
              "      <td>7001</td>\n",
              "      <td>flour,salt,baking powder,poppy,butter,vegetabl...</td>\n",
              "      <td>[flour, salt, baking powder, poppy, butter, ve...</td>\n",
              "    </tr>\n",
              "    <tr>\n",
              "      <th>2</th>\n",
              "      <td>7003</td>\n",
              "      <td>flour,egg,white sugar,vegetable oil,applesauce...</td>\n",
              "      <td>[flour, egg, white sugar, vegetable oil, apple...</td>\n",
              "    </tr>\n",
              "    <tr>\n",
              "      <th>3</th>\n",
              "      <td>7006</td>\n",
              "      <td>flour,baking powder,baking soda,salt,cinnamon,...</td>\n",
              "      <td>[flour, baking powder, baking soda, salt, cinn...</td>\n",
              "    </tr>\n",
              "    <tr>\n",
              "      <th>4</th>\n",
              "      <td>7007</td>\n",
              "      <td>oat,buttermilk,vegetable oil,egg,brown sugar,f...</td>\n",
              "      <td>[oat, buttermilk, vegetable oil, egg, brown su...</td>\n",
              "    </tr>\n",
              "    <tr>\n",
              "      <th>...</th>\n",
              "      <td>...</td>\n",
              "      <td>...</td>\n",
              "      <td>...</td>\n",
              "    </tr>\n",
              "    <tr>\n",
              "      <th>12346</th>\n",
              "      <td>27456</td>\n",
              "      <td>sugar,butter,cocoa powder,vanilla,coffee</td>\n",
              "      <td>[sugar, butter, cocoa powder, vanilla, coffee]</td>\n",
              "    </tr>\n",
              "    <tr>\n",
              "      <th>12347</th>\n",
              "      <td>27478</td>\n",
              "      <td>CRUST:,ham,almond,white sugar,butter,caramel,F...</td>\n",
              "      <td>[CRUST:, ham, almond, white sugar, butter, car...</td>\n",
              "    </tr>\n",
              "    <tr>\n",
              "      <th>12348</th>\n",
              "      <td>27491</td>\n",
              "      <td>flour,white sugar,baking powder,salt,butter,eg...</td>\n",
              "      <td>[flour, white sugar, baking powder, salt, butt...</td>\n",
              "    </tr>\n",
              "    <tr>\n",
              "      <th>12349</th>\n",
              "      <td>27511</td>\n",
              "      <td>cake,chocolate,egg,water,vegetable oil,flour,m...</td>\n",
              "      <td>[cake, chocolate, egg, water, vegetable oil, f...</td>\n",
              "    </tr>\n",
              "    <tr>\n",
              "      <th>12350</th>\n",
              "      <td>27546</td>\n",
              "      <td>peach,brown sugar,cornstarch,vegetable oil,flo...</td>\n",
              "      <td>[peach, brown sugar, cornstarch, vegetable oil...</td>\n",
              "    </tr>\n",
              "  </tbody>\n",
              "</table>\n",
              "<p>6409 rows × 3 columns</p>\n",
              "</div>"
            ],
            "text/plain": [
              "      RecipeID  ...                                    Ingredient_list\n",
              "0         7000  ...  [yeast, water, white sugar, salt, egg, butter,...\n",
              "1         7001  ...  [flour, salt, baking powder, poppy, butter, ve...\n",
              "2         7003  ...  [flour, egg, white sugar, vegetable oil, apple...\n",
              "3         7006  ...  [flour, baking powder, baking soda, salt, cinn...\n",
              "4         7007  ...  [oat, buttermilk, vegetable oil, egg, brown su...\n",
              "...        ...  ...                                                ...\n",
              "12346    27456  ...     [sugar, butter, cocoa powder, vanilla, coffee]\n",
              "12347    27478  ...  [CRUST:, ham, almond, white sugar, butter, car...\n",
              "12348    27491  ...  [flour, white sugar, baking powder, salt, butt...\n",
              "12349    27511  ...  [cake, chocolate, egg, water, vegetable oil, f...\n",
              "12350    27546  ...  [peach, brown sugar, cornstarch, vegetable oil...\n",
              "\n",
              "[6409 rows x 3 columns]"
            ]
          },
          "metadata": {
            "tags": []
          },
          "execution_count": 12
        }
      ]
    },
    {
      "cell_type": "code",
      "metadata": {
        "colab": {
          "base_uri": "https://localhost:8080/",
          "height": 419
        },
        "id": "VjTcEWe7BCJw",
        "outputId": "ac160605-5261-4fb2-f073-45f67b94b5d9"
      },
      "source": [
        "recipe_ingredient = ingredient_df.explode('Ingredient_list')\n",
        "recipe_ingredient = recipe_ingredient[['RecipeID','Ingredient_list']]\n",
        "recipe_ingredient"
      ],
      "execution_count": null,
      "outputs": [
        {
          "output_type": "execute_result",
          "data": {
            "text/html": [
              "<div>\n",
              "<style scoped>\n",
              "    .dataframe tbody tr th:only-of-type {\n",
              "        vertical-align: middle;\n",
              "    }\n",
              "\n",
              "    .dataframe tbody tr th {\n",
              "        vertical-align: top;\n",
              "    }\n",
              "\n",
              "    .dataframe thead th {\n",
              "        text-align: right;\n",
              "    }\n",
              "</style>\n",
              "<table border=\"1\" class=\"dataframe\">\n",
              "  <thead>\n",
              "    <tr style=\"text-align: right;\">\n",
              "      <th></th>\n",
              "      <th>RecipeID</th>\n",
              "      <th>Ingredient_list</th>\n",
              "    </tr>\n",
              "  </thead>\n",
              "  <tbody>\n",
              "    <tr>\n",
              "      <th>0</th>\n",
              "      <td>7000</td>\n",
              "      <td>yeast</td>\n",
              "    </tr>\n",
              "    <tr>\n",
              "      <th>0</th>\n",
              "      <td>7000</td>\n",
              "      <td>water</td>\n",
              "    </tr>\n",
              "    <tr>\n",
              "      <th>0</th>\n",
              "      <td>7000</td>\n",
              "      <td>white sugar</td>\n",
              "    </tr>\n",
              "    <tr>\n",
              "      <th>0</th>\n",
              "      <td>7000</td>\n",
              "      <td>salt</td>\n",
              "    </tr>\n",
              "    <tr>\n",
              "      <th>0</th>\n",
              "      <td>7000</td>\n",
              "      <td>egg</td>\n",
              "    </tr>\n",
              "    <tr>\n",
              "      <th>...</th>\n",
              "      <td>...</td>\n",
              "      <td>...</td>\n",
              "    </tr>\n",
              "    <tr>\n",
              "      <th>12350</th>\n",
              "      <td>27546</td>\n",
              "      <td>lemon</td>\n",
              "    </tr>\n",
              "    <tr>\n",
              "      <th>12350</th>\n",
              "      <td>27546</td>\n",
              "      <td>egg</td>\n",
              "    </tr>\n",
              "    <tr>\n",
              "      <th>12350</th>\n",
              "      <td>27546</td>\n",
              "      <td>vanilla</td>\n",
              "    </tr>\n",
              "    <tr>\n",
              "      <th>12350</th>\n",
              "      <td>27546</td>\n",
              "      <td>vegetable oil</td>\n",
              "    </tr>\n",
              "    <tr>\n",
              "      <th>12350</th>\n",
              "      <td>27546</td>\n",
              "      <td>orange juice</td>\n",
              "    </tr>\n",
              "  </tbody>\n",
              "</table>\n",
              "<p>54929 rows × 2 columns</p>\n",
              "</div>"
            ],
            "text/plain": [
              "      RecipeID Ingredient_list\n",
              "0         7000           yeast\n",
              "0         7000           water\n",
              "0         7000     white sugar\n",
              "0         7000            salt\n",
              "0         7000             egg\n",
              "...        ...             ...\n",
              "12350    27546           lemon\n",
              "12350    27546             egg\n",
              "12350    27546         vanilla\n",
              "12350    27546   vegetable oil\n",
              "12350    27546    orange juice\n",
              "\n",
              "[54929 rows x 2 columns]"
            ]
          },
          "metadata": {
            "tags": []
          },
          "execution_count": 13
        }
      ]
    },
    {
      "cell_type": "markdown",
      "metadata": {
        "id": "lD9MoS9XfwfS"
      },
      "source": [
        "# reviews mean df"
      ]
    },
    {
      "cell_type": "code",
      "metadata": {
        "id": "iDneGeFg-bDG"
      },
      "source": [
        "cleaned_reviews_df = df['cleaned_reviews']\n",
        "cleaned_reviews_df = cleaned_reviews_df['RecipeID,profileID,Rate'].str.split(',',expand=True)\n",
        "cleaned_reviews_df.columns = ['RecipeID','profileID','Rate']"
      ],
      "execution_count": null,
      "outputs": []
    },
    {
      "cell_type": "code",
      "metadata": {
        "id": "LbYtOKphC-G3"
      },
      "source": [
        "cleaned_reviews_df['Rate'] = pd.to_numeric(cleaned_reviews_df['Rate'])"
      ],
      "execution_count": null,
      "outputs": []
    },
    {
      "cell_type": "code",
      "metadata": {
        "id": "63xfpba8C5Pq"
      },
      "source": [
        "cleaned_reviews_df = cleaned_reviews_df.groupby('RecipeID').mean().reset_index()"
      ],
      "execution_count": null,
      "outputs": []
    },
    {
      "cell_type": "markdown",
      "metadata": {
        "id": "sCOTA9Azf9CS"
      },
      "source": [
        "# comments df"
      ]
    },
    {
      "cell_type": "code",
      "metadata": {
        "colab": {
          "base_uri": "https://localhost:8080/",
          "height": 473
        },
        "id": "A7CdCzn_dnUl",
        "outputId": "18a9d403-36f2-4ff8-ce0b-54c62fac2fa8"
      },
      "source": [
        "df = pd.read_csv('https://www.dropbox.com/s/ccu9rk0sehv8ef7/reviews.csv?dl=1',sep='delimiter', encoding='cp1252')\n",
        "df\n"
      ],
      "execution_count": null,
      "outputs": [
        {
          "output_type": "stream",
          "text": [
            "/usr/local/lib/python3.7/dist-packages/ipykernel_launcher.py:1: ParserWarning: Falling back to the 'python' engine because the 'c' engine does not support regex separators (separators > 1 char and different from '\\s+' are interpreted as regex); you can avoid this warning by specifying engine='python'.\n",
            "  \"\"\"Entry point for launching an IPython kernel.\n"
          ],
          "name": "stderr"
        },
        {
          "output_type": "execute_result",
          "data": {
            "text/html": [
              "<div>\n",
              "<style scoped>\n",
              "    .dataframe tbody tr th:only-of-type {\n",
              "        vertical-align: middle;\n",
              "    }\n",
              "\n",
              "    .dataframe tbody tr th {\n",
              "        vertical-align: top;\n",
              "    }\n",
              "\n",
              "    .dataframe thead th {\n",
              "        text-align: right;\n",
              "    }\n",
              "</style>\n",
              "<table border=\"1\" class=\"dataframe\">\n",
              "  <thead>\n",
              "    <tr style=\"text-align: right;\">\n",
              "      <th></th>\n",
              "      <th>RecipeID;profileID;Rate;Comment</th>\n",
              "    </tr>\n",
              "  </thead>\n",
              "  <tbody>\n",
              "    <tr>\n",
              "      <th>915335</th>\n",
              "      <td>!  Great with the Garlic chicken recipe and ri...</td>\n",
              "    </tr>\n",
              "    <tr>\n",
              "      <th>1151775</th>\n",
              "      <td>!  I found that frozen vacu-seal fillets stay ...</td>\n",
              "    </tr>\n",
              "    <tr>\n",
              "      <th>30838</th>\n",
              "      <td>!  I may try it with plain crisco next time.  ...</td>\n",
              "    </tr>\n",
              "    <tr>\n",
              "      <th>1099606</th>\n",
              "      <td>!! didn''t get hard in the freezer but that''s...</td>\n",
              "    </tr>\n",
              "    <tr>\n",
              "      <th>288127</th>\n",
              "      <td>!!!!!!!!!!!!!!!!!!!!!!!!!!!!!!!!!!!!!!!!!!!!!!...</td>\n",
              "    </tr>\n",
              "    <tr>\n",
              "      <th>...</th>\n",
              "      <td>...</td>\n",
              "    </tr>\n",
              "    <tr>\n",
              "      <th>305481</th>\n",
              "      <td>•Regular splenda for the white su...'</td>\n",
              "    </tr>\n",
              "    <tr>\n",
              "      <th>305480</th>\n",
              "      <td>•Smart balance or any butter substitute</td>\n",
              "    </tr>\n",
              "    <tr>\n",
              "      <th>933213</th>\n",
              "      <td>•add a 2 capfulls of pure vanilla e...'</td>\n",
              "    </tr>\n",
              "    <tr>\n",
              "      <th>933212</th>\n",
              "      <td>•use all brown sugar and use a little more tha...</td>\n",
              "    </tr>\n",
              "    <tr>\n",
              "      <th>1022701</th>\n",
              "      <td>• Double the cinnamon</td>\n",
              "    </tr>\n",
              "  </tbody>\n",
              "</table>\n",
              "<p>1648884 rows × 1 columns</p>\n",
              "</div>"
            ],
            "text/plain": [
              "                           RecipeID;profileID;Rate;Comment\n",
              "915335   !  Great with the Garlic chicken recipe and ri...\n",
              "1151775  !  I found that frozen vacu-seal fillets stay ...\n",
              "30838    !  I may try it with plain crisco next time.  ...\n",
              "1099606  !! didn''t get hard in the freezer but that''s...\n",
              "288127   !!!!!!!!!!!!!!!!!!!!!!!!!!!!!!!!!!!!!!!!!!!!!!...\n",
              "...                                                    ...\n",
              "305481               •Regular splenda for the white su...'\n",
              "305480             •Smart balance or any butter substitute\n",
              "933213             •add a 2 capfulls of pure vanilla e...'\n",
              "933212   •use all brown sugar and use a little more tha...\n",
              "1022701                              • Double the cinnamon\n",
              "\n",
              "[1648884 rows x 1 columns]"
            ]
          },
          "metadata": {
            "tags": []
          },
          "execution_count": 9
        }
      ]
    },
    {
      "cell_type": "code",
      "metadata": {
        "colab": {
          "base_uri": "https://localhost:8080/",
          "height": 419
        },
        "id": "5F9INPMs95UA",
        "outputId": "89fd8769-0d8e-48d8-b238-2da2576b8fbd"
      },
      "source": [
        "# comments_df =  df['RecipeID;profileID;Rate;Comment'].str.split(';',expand=True)\n",
        "# comments_df = comments_df[[0,1,2,3]]\n",
        "# comments_df.columns = ['RecipeID','profileID','Rate','Comment']\n",
        "# comments_df = comments_df.dropna()\n",
        "# comments_df['RecipeID'] = comments_df['RecipeID'].apply(lambda x: x if x.isnumeric() else None)\n",
        "# comments_df = comments_df[['RecipeID', 'Comment']]\n",
        "# comments_df = comments_df.dropna()\n",
        "comments_shuffled = comments_df.sample(frac=1).reset_index(drop=True)\n",
        "comments_brandy = comments_shuffled.groupby('RecipeID').head(10)\n",
        "comments_brandy.sort_values(by='RecipeID', ascending=False)"
      ],
      "execution_count": null,
      "outputs": [
        {
          "output_type": "execute_result",
          "data": {
            "text/html": [
              "<div>\n",
              "<style scoped>\n",
              "    .dataframe tbody tr th:only-of-type {\n",
              "        vertical-align: middle;\n",
              "    }\n",
              "\n",
              "    .dataframe tbody tr th {\n",
              "        vertical-align: top;\n",
              "    }\n",
              "\n",
              "    .dataframe thead th {\n",
              "        text-align: right;\n",
              "    }\n",
              "</style>\n",
              "<table border=\"1\" class=\"dataframe\">\n",
              "  <thead>\n",
              "    <tr style=\"text-align: right;\">\n",
              "      <th></th>\n",
              "      <th>RecipeID</th>\n",
              "      <th>Comment</th>\n",
              "    </tr>\n",
              "  </thead>\n",
              "  <tbody>\n",
              "    <tr>\n",
              "      <th>7500</th>\n",
              "      <td>9999</td>\n",
              "      <td>These are amazing! I used about 1/2 cup more p...</td>\n",
              "    </tr>\n",
              "    <tr>\n",
              "      <th>3626</th>\n",
              "      <td>9999</td>\n",
              "      <td>'These were ok, I thought they didn''t really ...</td>\n",
              "    </tr>\n",
              "    <tr>\n",
              "      <th>11049</th>\n",
              "      <td>9999</td>\n",
              "      <td>Better than a p-nut butter cup! I did make a c...</td>\n",
              "    </tr>\n",
              "    <tr>\n",
              "      <th>4663</th>\n",
              "      <td>9999</td>\n",
              "      <td>I only had 1.5 cups of graham cracker crumbs a...</td>\n",
              "    </tr>\n",
              "    <tr>\n",
              "      <th>5155</th>\n",
              "      <td>9999</td>\n",
              "      <td>I made this recipe as-is and it came out wonde...</td>\n",
              "    </tr>\n",
              "    <tr>\n",
              "      <th>...</th>\n",
              "      <td>...</td>\n",
              "      <td>...</td>\n",
              "    </tr>\n",
              "    <tr>\n",
              "      <th>600380</th>\n",
              "      <td>10000</td>\n",
              "      <td>I made these and sent them to work with my hus...</td>\n",
              "    </tr>\n",
              "    <tr>\n",
              "      <th>618895</th>\n",
              "      <td>10000</td>\n",
              "      <td>'Was like Whoopie pies, but not as good as I h...</td>\n",
              "    </tr>\n",
              "    <tr>\n",
              "      <th>566563</th>\n",
              "      <td>10000</td>\n",
              "      <td>thought batter was too thin added 1/2 flour, s...</td>\n",
              "    </tr>\n",
              "    <tr>\n",
              "      <th>312832</th>\n",
              "      <td>10000</td>\n",
              "      <td>'I haven''t tried the cookie part of this reci...</td>\n",
              "    </tr>\n",
              "    <tr>\n",
              "      <th>61755</th>\n",
              "      <td>10000</td>\n",
              "      <td>This cookies were just blehhhh.  Not the brown...</td>\n",
              "    </tr>\n",
              "  </tbody>\n",
              "</table>\n",
              "<p>90345 rows × 2 columns</p>\n",
              "</div>"
            ],
            "text/plain": [
              "       RecipeID                                            Comment\n",
              "7500       9999  These are amazing! I used about 1/2 cup more p...\n",
              "3626       9999  'These were ok, I thought they didn''t really ...\n",
              "11049      9999  Better than a p-nut butter cup! I did make a c...\n",
              "4663       9999  I only had 1.5 cups of graham cracker crumbs a...\n",
              "5155       9999  I made this recipe as-is and it came out wonde...\n",
              "...         ...                                                ...\n",
              "600380    10000  I made these and sent them to work with my hus...\n",
              "618895    10000  'Was like Whoopie pies, but not as good as I h...\n",
              "566563    10000  thought batter was too thin added 1/2 flour, s...\n",
              "312832    10000  'I haven''t tried the cookie part of this reci...\n",
              "61755     10000  This cookies were just blehhhh.  Not the brown...\n",
              "\n",
              "[90345 rows x 2 columns]"
            ]
          },
          "metadata": {
            "tags": []
          },
          "execution_count": 14
        }
      ]
    },
    {
      "cell_type": "markdown",
      "metadata": {
        "id": "GFfcQiDUf_Ek"
      },
      "source": [
        "# all dataframes"
      ]
    },
    {
      "cell_type": "code",
      "metadata": {
        "colab": {
          "base_uri": "https://localhost:8080/",
          "height": 419
        },
        "id": "MAY98fO3Dj_D",
        "outputId": "496a57f1-bde2-4844-d64d-6d2c3129d4c4"
      },
      "source": [
        "cleaned_reviews_df"
      ],
      "execution_count": null,
      "outputs": [
        {
          "output_type": "execute_result",
          "data": {
            "text/html": [
              "<div>\n",
              "<style scoped>\n",
              "    .dataframe tbody tr th:only-of-type {\n",
              "        vertical-align: middle;\n",
              "    }\n",
              "\n",
              "    .dataframe tbody tr th {\n",
              "        vertical-align: top;\n",
              "    }\n",
              "\n",
              "    .dataframe thead th {\n",
              "        text-align: right;\n",
              "    }\n",
              "</style>\n",
              "<table border=\"1\" class=\"dataframe\">\n",
              "  <thead>\n",
              "    <tr style=\"text-align: right;\">\n",
              "      <th></th>\n",
              "      <th>RecipeID</th>\n",
              "      <th>Rate</th>\n",
              "    </tr>\n",
              "  </thead>\n",
              "  <tbody>\n",
              "    <tr>\n",
              "      <th>0</th>\n",
              "      <td>10000</td>\n",
              "      <td>3.633333</td>\n",
              "    </tr>\n",
              "    <tr>\n",
              "      <th>1</th>\n",
              "      <td>10003</td>\n",
              "      <td>3.993289</td>\n",
              "    </tr>\n",
              "    <tr>\n",
              "      <th>2</th>\n",
              "      <td>10011</td>\n",
              "      <td>4.112994</td>\n",
              "    </tr>\n",
              "    <tr>\n",
              "      <th>3</th>\n",
              "      <td>10016</td>\n",
              "      <td>4.146067</td>\n",
              "    </tr>\n",
              "    <tr>\n",
              "      <th>4</th>\n",
              "      <td>10018</td>\n",
              "      <td>4.066667</td>\n",
              "    </tr>\n",
              "    <tr>\n",
              "      <th>...</th>\n",
              "      <td>...</td>\n",
              "      <td>...</td>\n",
              "    </tr>\n",
              "    <tr>\n",
              "      <th>9031</th>\n",
              "      <td>9992</td>\n",
              "      <td>4.433333</td>\n",
              "    </tr>\n",
              "    <tr>\n",
              "      <th>9032</th>\n",
              "      <td>9994</td>\n",
              "      <td>4.569288</td>\n",
              "    </tr>\n",
              "    <tr>\n",
              "      <th>9033</th>\n",
              "      <td>9996</td>\n",
              "      <td>4.339139</td>\n",
              "    </tr>\n",
              "    <tr>\n",
              "      <th>9034</th>\n",
              "      <td>9998</td>\n",
              "      <td>4.323439</td>\n",
              "    </tr>\n",
              "    <tr>\n",
              "      <th>9035</th>\n",
              "      <td>9999</td>\n",
              "      <td>4.562500</td>\n",
              "    </tr>\n",
              "  </tbody>\n",
              "</table>\n",
              "<p>9036 rows × 2 columns</p>\n",
              "</div>"
            ],
            "text/plain": [
              "     RecipeID      Rate\n",
              "0       10000  3.633333\n",
              "1       10003  3.993289\n",
              "2       10011  4.112994\n",
              "3       10016  4.146067\n",
              "4       10018  4.066667\n",
              "...       ...       ...\n",
              "9031     9992  4.433333\n",
              "9032     9994  4.569288\n",
              "9033     9996  4.339139\n",
              "9034     9998  4.323439\n",
              "9035     9999  4.562500\n",
              "\n",
              "[9036 rows x 2 columns]"
            ]
          },
          "metadata": {
            "tags": []
          },
          "execution_count": 18
        }
      ]
    },
    {
      "cell_type": "code",
      "metadata": {
        "colab": {
          "base_uri": "https://localhost:8080/",
          "height": 1000
        },
        "id": "eaM5gyjEDl__",
        "outputId": "7e9b68a1-2ce4-42e3-eda1-05b965eb8e7b"
      },
      "source": [
        "cleaned_recipes_df"
      ],
      "execution_count": null,
      "outputs": [
        {
          "output_type": "execute_result",
          "data": {
            "text/html": [
              "<div>\n",
              "<style scoped>\n",
              "    .dataframe tbody tr th:only-of-type {\n",
              "        vertical-align: middle;\n",
              "    }\n",
              "\n",
              "    .dataframe tbody tr th {\n",
              "        vertical-align: top;\n",
              "    }\n",
              "\n",
              "    .dataframe thead th {\n",
              "        text-align: right;\n",
              "    }\n",
              "</style>\n",
              "<table border=\"1\" class=\"dataframe\">\n",
              "  <thead>\n",
              "    <tr style=\"text-align: right;\">\n",
              "      <th></th>\n",
              "      <th>Recipe_name</th>\n",
              "      <th>Review_count</th>\n",
              "      <th>Recipe_photo</th>\n",
              "      <th>Author</th>\n",
              "      <th>Prepare_time</th>\n",
              "      <th>Cook_time</th>\n",
              "      <th>Total_time</th>\n",
              "      <th>Ingredients</th>\n",
              "      <th>Directions</th>\n",
              "      <th>RecipeID</th>\n",
              "      <th>Ingredient_list</th>\n",
              "    </tr>\n",
              "  </thead>\n",
              "  <tbody>\n",
              "    <tr>\n",
              "      <th>0</th>\n",
              "      <td>Golden Crescent Rolls Recipe</td>\n",
              "      <td>304</td>\n",
              "      <td>https://images.media-allrecipes.com/userphotos...</td>\n",
              "      <td>Mike A.</td>\n",
              "      <td>25</td>\n",
              "      <td>15</td>\n",
              "      <td>190</td>\n",
              "      <td>yeast,water,white sugar,salt,egg,butter,flour,...</td>\n",
              "      <td>Dissolve yeast in warm water.**Stir in sugar, ...</td>\n",
              "      <td>7000</td>\n",
              "      <td>[yeast, water, white sugar, salt, egg, butter,...</td>\n",
              "    </tr>\n",
              "    <tr>\n",
              "      <th>1</th>\n",
              "      <td>Poppy Seed Bread with Glaze Recipe</td>\n",
              "      <td>137</td>\n",
              "      <td>https://images.media-allrecipes.com/userphotos...</td>\n",
              "      <td>Christina Jun</td>\n",
              "      <td>15</td>\n",
              "      <td>60</td>\n",
              "      <td>80</td>\n",
              "      <td>flour,salt,baking powder,poppy,butter,vegetabl...</td>\n",
              "      <td>Preheat oven to 350 degrees F (175 degrees C)....</td>\n",
              "      <td>7001</td>\n",
              "      <td>[flour, salt, baking powder, poppy, butter, ve...</td>\n",
              "    </tr>\n",
              "    <tr>\n",
              "      <th>2</th>\n",
              "      <td>Applesauce Bread I Recipe</td>\n",
              "      <td>124</td>\n",
              "      <td>https://images.media-allrecipes.com/userphotos...</td>\n",
              "      <td>GAF55</td>\n",
              "      <td>10</td>\n",
              "      <td>80</td>\n",
              "      <td>90</td>\n",
              "      <td>flour,egg,white sugar,vegetable oil,applesauce...</td>\n",
              "      <td>Preheat oven to 350 degrees F (175 degrees C)....</td>\n",
              "      <td>7003</td>\n",
              "      <td>[flour, egg, white sugar, vegetable oil, apple...</td>\n",
              "    </tr>\n",
              "    <tr>\n",
              "      <th>3</th>\n",
              "      <td>Apple Raisin Bread Recipe</td>\n",
              "      <td>39</td>\n",
              "      <td>https://images.media-allrecipes.com/userphotos...</td>\n",
              "      <td>Helen Hanson</td>\n",
              "      <td>15</td>\n",
              "      <td>60</td>\n",
              "      <td>75</td>\n",
              "      <td>flour,baking powder,baking soda,salt,cinnamon,...</td>\n",
              "      <td>Preheat oven to 350 degrees F (175 degrees C)....</td>\n",
              "      <td>7006</td>\n",
              "      <td>[flour, baking powder, baking soda, salt, cinn...</td>\n",
              "    </tr>\n",
              "    <tr>\n",
              "      <th>4</th>\n",
              "      <td>Buttermilk Oatmeal Bread Recipe</td>\n",
              "      <td>41</td>\n",
              "      <td>https://images.media-allrecipes.com/userphotos...</td>\n",
              "      <td>Helen Hanson</td>\n",
              "      <td>10</td>\n",
              "      <td>60</td>\n",
              "      <td>100</td>\n",
              "      <td>oat,buttermilk,vegetable oil,egg,brown sugar,f...</td>\n",
              "      <td>Mix oats with buttermilk.  Let stand for 1/2 h...</td>\n",
              "      <td>7007</td>\n",
              "      <td>[oat, buttermilk, vegetable oil, egg, brown su...</td>\n",
              "    </tr>\n",
              "    <tr>\n",
              "      <th>...</th>\n",
              "      <td>...</td>\n",
              "      <td>...</td>\n",
              "      <td>...</td>\n",
              "      <td>...</td>\n",
              "      <td>...</td>\n",
              "      <td>...</td>\n",
              "      <td>...</td>\n",
              "      <td>...</td>\n",
              "      <td>...</td>\n",
              "      <td>...</td>\n",
              "      <td>...</td>\n",
              "    </tr>\n",
              "    <tr>\n",
              "      <th>12346</th>\n",
              "      <td>Hot Coffee Frosting Recipe</td>\n",
              "      <td>5</td>\n",
              "      <td>https://images.media-allrecipes.com/userphotos...</td>\n",
              "      <td>Jean</td>\n",
              "      <td>30</td>\n",
              "      <td>30</td>\n",
              "      <td>60</td>\n",
              "      <td>sugar,butter,cocoa powder,vanilla,coffee</td>\n",
              "      <td>In a large bowl, combine confectioners sugar, ...</td>\n",
              "      <td>27456</td>\n",
              "      <td>[sugar, butter, cocoa powder, vanilla, coffee]</td>\n",
              "    </tr>\n",
              "    <tr>\n",
              "      <th>12347</th>\n",
              "      <td>White Chocolate Blueberry Cheesecake Recipe</td>\n",
              "      <td>78</td>\n",
              "      <td>https://images.media-allrecipes.com/userphotos...</td>\n",
              "      <td>Scott M.</td>\n",
              "      <td>20</td>\n",
              "      <td>60</td>\n",
              "      <td>80</td>\n",
              "      <td>CRUST:,ham,almond,white sugar,butter,caramel,F...</td>\n",
              "      <td>Preheat oven to 275 degrees F (135 degrees C)....</td>\n",
              "      <td>27478</td>\n",
              "      <td>[CRUST:, ham, almond, white sugar, butter, car...</td>\n",
              "    </tr>\n",
              "    <tr>\n",
              "      <th>12348</th>\n",
              "      <td>'Aunt Anne''s Coffee Cake Recipe '</td>\n",
              "      <td>704</td>\n",
              "      <td>https://images.media-allrecipes.com/userphotos...</td>\n",
              "      <td>Mary</td>\n",
              "      <td>20</td>\n",
              "      <td>25</td>\n",
              "      <td>45</td>\n",
              "      <td>flour,white sugar,baking powder,salt,butter,eg...</td>\n",
              "      <td>Preheat oven to 350 degrees F (175 degrees C)....</td>\n",
              "      <td>27491</td>\n",
              "      <td>[flour, white sugar, baking powder, salt, butt...</td>\n",
              "    </tr>\n",
              "    <tr>\n",
              "      <th>12349</th>\n",
              "      <td>Giant Ding Dong Cake Recipe</td>\n",
              "      <td>157</td>\n",
              "      <td>https://images.media-allrecipes.com/userphotos...</td>\n",
              "      <td>TheThreeDogKitchen</td>\n",
              "      <td>25</td>\n",
              "      <td>50</td>\n",
              "      <td>135</td>\n",
              "      <td>cake,chocolate,egg,water,vegetable oil,flour,m...</td>\n",
              "      <td>Preheat oven to 350 degrees F (175 degrees C)....</td>\n",
              "      <td>27511</td>\n",
              "      <td>[cake, chocolate, egg, water, vegetable oil, f...</td>\n",
              "    </tr>\n",
              "    <tr>\n",
              "      <th>12350</th>\n",
              "      <td>Peach Coffee Cake Recipe</td>\n",
              "      <td>10</td>\n",
              "      <td>https://images.media-allrecipes.com/userphotos...</td>\n",
              "      <td>David</td>\n",
              "      <td>15</td>\n",
              "      <td>50</td>\n",
              "      <td>65</td>\n",
              "      <td>peach,brown sugar,cornstarch,vegetable oil,flo...</td>\n",
              "      <td>Preheat oven to 350 degrees F (175 degrees C)....</td>\n",
              "      <td>27546</td>\n",
              "      <td>[peach, brown sugar, cornstarch, vegetable oil...</td>\n",
              "    </tr>\n",
              "  </tbody>\n",
              "</table>\n",
              "<p>6409 rows × 11 columns</p>\n",
              "</div>"
            ],
            "text/plain": [
              "                                        Recipe_name  ...                                    Ingredient_list\n",
              "0                     Golden Crescent Rolls Recipe   ...  [yeast, water, white sugar, salt, egg, butter,...\n",
              "1               Poppy Seed Bread with Glaze Recipe   ...  [flour, salt, baking powder, poppy, butter, ve...\n",
              "2                        Applesauce Bread I Recipe   ...  [flour, egg, white sugar, vegetable oil, apple...\n",
              "3                        Apple Raisin Bread Recipe   ...  [flour, baking powder, baking soda, salt, cinn...\n",
              "4                  Buttermilk Oatmeal Bread Recipe   ...  [oat, buttermilk, vegetable oil, egg, brown su...\n",
              "...                                             ...  ...                                                ...\n",
              "12346                   Hot Coffee Frosting Recipe   ...     [sugar, butter, cocoa powder, vanilla, coffee]\n",
              "12347  White Chocolate Blueberry Cheesecake Recipe   ...  [CRUST:, ham, almond, white sugar, butter, car...\n",
              "12348            'Aunt Anne''s Coffee Cake Recipe '  ...  [flour, white sugar, baking powder, salt, butt...\n",
              "12349                  Giant Ding Dong Cake Recipe   ...  [cake, chocolate, egg, water, vegetable oil, f...\n",
              "12350                     Peach Coffee Cake Recipe   ...  [peach, brown sugar, cornstarch, vegetable oil...\n",
              "\n",
              "[6409 rows x 11 columns]"
            ]
          },
          "metadata": {
            "tags": []
          },
          "execution_count": 19
        }
      ]
    },
    {
      "cell_type": "code",
      "metadata": {
        "colab": {
          "base_uri": "https://localhost:8080/",
          "height": 419
        },
        "id": "AkAMjmI6DxDy",
        "outputId": "58527751-2ef5-4761-8c47-d09ca52c194f"
      },
      "source": [
        "recipe_ingredient"
      ],
      "execution_count": null,
      "outputs": [
        {
          "output_type": "execute_result",
          "data": {
            "text/html": [
              "<div>\n",
              "<style scoped>\n",
              "    .dataframe tbody tr th:only-of-type {\n",
              "        vertical-align: middle;\n",
              "    }\n",
              "\n",
              "    .dataframe tbody tr th {\n",
              "        vertical-align: top;\n",
              "    }\n",
              "\n",
              "    .dataframe thead th {\n",
              "        text-align: right;\n",
              "    }\n",
              "</style>\n",
              "<table border=\"1\" class=\"dataframe\">\n",
              "  <thead>\n",
              "    <tr style=\"text-align: right;\">\n",
              "      <th></th>\n",
              "      <th>RecipeID</th>\n",
              "      <th>Ingredient_list</th>\n",
              "    </tr>\n",
              "  </thead>\n",
              "  <tbody>\n",
              "    <tr>\n",
              "      <th>0</th>\n",
              "      <td>7000</td>\n",
              "      <td>yeast</td>\n",
              "    </tr>\n",
              "    <tr>\n",
              "      <th>0</th>\n",
              "      <td>7000</td>\n",
              "      <td>water</td>\n",
              "    </tr>\n",
              "    <tr>\n",
              "      <th>0</th>\n",
              "      <td>7000</td>\n",
              "      <td>white sugar</td>\n",
              "    </tr>\n",
              "    <tr>\n",
              "      <th>0</th>\n",
              "      <td>7000</td>\n",
              "      <td>salt</td>\n",
              "    </tr>\n",
              "    <tr>\n",
              "      <th>0</th>\n",
              "      <td>7000</td>\n",
              "      <td>egg</td>\n",
              "    </tr>\n",
              "    <tr>\n",
              "      <th>...</th>\n",
              "      <td>...</td>\n",
              "      <td>...</td>\n",
              "    </tr>\n",
              "    <tr>\n",
              "      <th>12350</th>\n",
              "      <td>27546</td>\n",
              "      <td>lemon</td>\n",
              "    </tr>\n",
              "    <tr>\n",
              "      <th>12350</th>\n",
              "      <td>27546</td>\n",
              "      <td>egg</td>\n",
              "    </tr>\n",
              "    <tr>\n",
              "      <th>12350</th>\n",
              "      <td>27546</td>\n",
              "      <td>vanilla</td>\n",
              "    </tr>\n",
              "    <tr>\n",
              "      <th>12350</th>\n",
              "      <td>27546</td>\n",
              "      <td>vegetable oil</td>\n",
              "    </tr>\n",
              "    <tr>\n",
              "      <th>12350</th>\n",
              "      <td>27546</td>\n",
              "      <td>orange juice</td>\n",
              "    </tr>\n",
              "  </tbody>\n",
              "</table>\n",
              "<p>54929 rows × 2 columns</p>\n",
              "</div>"
            ],
            "text/plain": [
              "      RecipeID Ingredient_list\n",
              "0         7000           yeast\n",
              "0         7000           water\n",
              "0         7000     white sugar\n",
              "0         7000            salt\n",
              "0         7000             egg\n",
              "...        ...             ...\n",
              "12350    27546           lemon\n",
              "12350    27546             egg\n",
              "12350    27546         vanilla\n",
              "12350    27546   vegetable oil\n",
              "12350    27546    orange juice\n",
              "\n",
              "[54929 rows x 2 columns]"
            ]
          },
          "metadata": {
            "tags": []
          },
          "execution_count": 20
        }
      ]
    },
    {
      "cell_type": "code",
      "metadata": {
        "colab": {
          "base_uri": "https://localhost:8080/",
          "height": 521
        },
        "id": "VE3CsahKdvud",
        "outputId": "c05c0582-9685-4d30-a03f-3c9fc8390cb5"
      },
      "source": [
        "comments_df.sort_values(\"RecipeID\")\n"
      ],
      "execution_count": null,
      "outputs": [
        {
          "output_type": "execute_result",
          "data": {
            "text/html": [
              "<div>\n",
              "<style scoped>\n",
              "    .dataframe tbody tr th:only-of-type {\n",
              "        vertical-align: middle;\n",
              "    }\n",
              "\n",
              "    .dataframe tbody tr th {\n",
              "        vertical-align: top;\n",
              "    }\n",
              "\n",
              "    .dataframe thead th {\n",
              "        text-align: right;\n",
              "    }\n",
              "</style>\n",
              "<table border=\"1\" class=\"dataframe\">\n",
              "  <thead>\n",
              "    <tr style=\"text-align: right;\">\n",
              "      <th></th>\n",
              "      <th>RecipeID</th>\n",
              "      <th>profileID</th>\n",
              "      <th>Rate</th>\n",
              "      <th>Comment</th>\n",
              "    </tr>\n",
              "  </thead>\n",
              "  <tbody>\n",
              "    <tr>\n",
              "      <th>1486293</th>\n",
              "      <td>1/2 cup corn flakes</td>\n",
              "      <td>1/4 cup oatmeal</td>\n",
              "      <td>1/8 cup sliced almods</td>\n",
              "      <td>1/8 cup ho...'</td>\n",
              "    </tr>\n",
              "    <tr>\n",
              "      <th>1595009</th>\n",
              "      <td>1/2 tsp paprika</td>\n",
              "      <td>1/2 tsp chili flakes</td>\n",
              "      <td>4 cloves garlic</td>\n",
              "      <td>pinch of fresh thyme &amp; pinch fresh ros...'</td>\n",
              "    </tr>\n",
              "    <tr>\n",
              "      <th>282124</th>\n",
              "      <td>10000</td>\n",
              "      <td>930513</td>\n",
              "      <td>5</td>\n",
              "      <td>These are great, although they are very sweet....</td>\n",
              "    </tr>\n",
              "    <tr>\n",
              "      <th>282129</th>\n",
              "      <td>10000</td>\n",
              "      <td>137552</td>\n",
              "      <td>5</td>\n",
              "      <td>'I haven''t tried the cookie part of this reci...</td>\n",
              "    </tr>\n",
              "    <tr>\n",
              "      <th>282128</th>\n",
              "      <td>10000</td>\n",
              "      <td>674114</td>\n",
              "      <td>2</td>\n",
              "      <td>I was so disappointed by these cookies :o(  Th...</td>\n",
              "    </tr>\n",
              "    <tr>\n",
              "      <th>...</th>\n",
              "      <td>...</td>\n",
              "      <td>...</td>\n",
              "      <td>...</td>\n",
              "      <td>...</td>\n",
              "    </tr>\n",
              "    <tr>\n",
              "      <th>1217679</th>\n",
              "      <td>Used both zukes and yellow squash</td>\n",
              "      <td>added a little parmesan and a dash of cayenne...</td>\n",
              "      <td>sauteed the onion first</td>\n",
              "      <td>used a li...'</td>\n",
              "    </tr>\n",
              "    <tr>\n",
              "      <th>1510319</th>\n",
              "      <td>Used less oil 1 1/3 cups</td>\n",
              "      <td>eliminated coconut</td>\n",
              "      <td>decreased baby food to 7 oz.</td>\n",
              "      <td>increased grated carrots to 1 cup</td>\n",
              "    </tr>\n",
              "    <tr>\n",
              "      <th>623058</th>\n",
              "      <td>about half the peppers</td>\n",
              "      <td>cut down the oil</td>\n",
              "      <td>increased spices a bit (omitted cayenne)</td>\n",
              "      <td>1/2cp orange juice + 1/2cp carrot juice</td>\n",
              "    </tr>\n",
              "    <tr>\n",
              "      <th>1563570</th>\n",
              "      <td>doubled chicken and cooked with salt and pepper</td>\n",
              "      <td>whole wheat tortillas</td>\n",
              "      <td>chopped instead of minced everything</td>\n",
              "      <td>canned instead of frozen corn</td>\n",
              "    </tr>\n",
              "    <tr>\n",
              "      <th>10294</th>\n",
              "      <td>molasses &gt; honey</td>\n",
              "      <td>white sugar &gt; brown sugar</td>\n",
              "      <td>water &gt; orange juice and zest</td>\n",
              "      <td>one apple shredded. Very nice, not too sweet,...</td>\n",
              "    </tr>\n",
              "  </tbody>\n",
              "</table>\n",
              "<p>1578737 rows × 4 columns</p>\n",
              "</div>"
            ],
            "text/plain": [
              "                                                RecipeID  ...                                            Comment\n",
              "1486293                              1/2 cup corn flakes  ...                                     1/8 cup ho...'\n",
              "1595009                                  1/2 tsp paprika  ...         pinch of fresh thyme & pinch fresh ros...'\n",
              "282124                                             10000  ...  These are great, although they are very sweet....\n",
              "282129                                             10000  ...  'I haven''t tried the cookie part of this reci...\n",
              "282128                                             10000  ...  I was so disappointed by these cookies :o(  Th...\n",
              "...                                                  ...  ...                                                ...\n",
              "1217679                Used both zukes and yellow squash  ...                                      used a li...'\n",
              "1510319                         Used less oil 1 1/3 cups  ...                  increased grated carrots to 1 cup\n",
              "623058                            about half the peppers  ...            1/2cp orange juice + 1/2cp carrot juice\n",
              "1563570  doubled chicken and cooked with salt and pepper  ...                      canned instead of frozen corn\n",
              "10294                                   molasses > honey  ...   one apple shredded. Very nice, not too sweet,...\n",
              "\n",
              "[1578737 rows x 4 columns]"
            ]
          },
          "metadata": {
            "tags": []
          },
          "execution_count": 4
        }
      ]
    },
    {
      "cell_type": "code",
      "metadata": {
        "colab": {
          "base_uri": "https://localhost:8080/",
          "height": 419
        },
        "id": "hA_g7VnxajcM",
        "outputId": "98c28678-5e6b-4145-d950-57bd515b6cd7"
      },
      "source": [
        "cleaned_reviews_df.rename(columns={'Rate': 'Avg_Rate'})\n"
      ],
      "execution_count": null,
      "outputs": [
        {
          "output_type": "execute_result",
          "data": {
            "text/html": [
              "<div>\n",
              "<style scoped>\n",
              "    .dataframe tbody tr th:only-of-type {\n",
              "        vertical-align: middle;\n",
              "    }\n",
              "\n",
              "    .dataframe tbody tr th {\n",
              "        vertical-align: top;\n",
              "    }\n",
              "\n",
              "    .dataframe thead th {\n",
              "        text-align: right;\n",
              "    }\n",
              "</style>\n",
              "<table border=\"1\" class=\"dataframe\">\n",
              "  <thead>\n",
              "    <tr style=\"text-align: right;\">\n",
              "      <th></th>\n",
              "      <th>RecipeID</th>\n",
              "      <th>Avg_Rate</th>\n",
              "    </tr>\n",
              "  </thead>\n",
              "  <tbody>\n",
              "    <tr>\n",
              "      <th>0</th>\n",
              "      <td>10000</td>\n",
              "      <td>3.633333</td>\n",
              "    </tr>\n",
              "    <tr>\n",
              "      <th>1</th>\n",
              "      <td>10003</td>\n",
              "      <td>3.993289</td>\n",
              "    </tr>\n",
              "    <tr>\n",
              "      <th>2</th>\n",
              "      <td>10011</td>\n",
              "      <td>4.112994</td>\n",
              "    </tr>\n",
              "    <tr>\n",
              "      <th>3</th>\n",
              "      <td>10016</td>\n",
              "      <td>4.146067</td>\n",
              "    </tr>\n",
              "    <tr>\n",
              "      <th>4</th>\n",
              "      <td>10018</td>\n",
              "      <td>4.066667</td>\n",
              "    </tr>\n",
              "    <tr>\n",
              "      <th>...</th>\n",
              "      <td>...</td>\n",
              "      <td>...</td>\n",
              "    </tr>\n",
              "    <tr>\n",
              "      <th>9031</th>\n",
              "      <td>9992</td>\n",
              "      <td>4.433333</td>\n",
              "    </tr>\n",
              "    <tr>\n",
              "      <th>9032</th>\n",
              "      <td>9994</td>\n",
              "      <td>4.569288</td>\n",
              "    </tr>\n",
              "    <tr>\n",
              "      <th>9033</th>\n",
              "      <td>9996</td>\n",
              "      <td>4.339139</td>\n",
              "    </tr>\n",
              "    <tr>\n",
              "      <th>9034</th>\n",
              "      <td>9998</td>\n",
              "      <td>4.323439</td>\n",
              "    </tr>\n",
              "    <tr>\n",
              "      <th>9035</th>\n",
              "      <td>9999</td>\n",
              "      <td>4.562500</td>\n",
              "    </tr>\n",
              "  </tbody>\n",
              "</table>\n",
              "<p>9036 rows × 2 columns</p>\n",
              "</div>"
            ],
            "text/plain": [
              "     RecipeID  Avg_Rate\n",
              "0       10000  3.633333\n",
              "1       10003  3.993289\n",
              "2       10011  4.112994\n",
              "3       10016  4.146067\n",
              "4       10018  4.066667\n",
              "...       ...       ...\n",
              "9031     9992  4.433333\n",
              "9032     9994  4.569288\n",
              "9033     9996  4.339139\n",
              "9034     9998  4.323439\n",
              "9035     9999  4.562500\n",
              "\n",
              "[9036 rows x 2 columns]"
            ]
          },
          "metadata": {
            "tags": []
          },
          "execution_count": 22
        }
      ]
    },
    {
      "cell_type": "markdown",
      "metadata": {
        "id": "TGKxJwNlGI9u"
      },
      "source": [
        "# Download CSV"
      ]
    },
    {
      "cell_type": "code",
      "metadata": {
        "id": "i6WxaEBwEU5c"
      },
      "source": [
        "from google.colab import files\n",
        "def download_colab(df, file_name):\n",
        "  df.to_csv(file_name)\n",
        "  files.download(file_name)"
      ],
      "execution_count": null,
      "outputs": []
    },
    {
      "cell_type": "code",
      "metadata": {
        "id": "iFECEbsvE4X4",
        "colab": {
          "base_uri": "https://localhost:8080/",
          "height": 17
        },
        "outputId": "459bf4a7-1222-4e38-fb91-8a250d0b58bf"
      },
      "source": [
        "# download_colab(recipe_ingredient,'recipe_ingredient.csv')\n",
        "# download_colab(cleaned_recipes_df,'recipes.csv')\n",
        "# download_colab(cleaned_reviews_df,'reviews.csv')\n",
        "download_colab(comments_brandy,'comments.csv')"
      ],
      "execution_count": null,
      "outputs": [
        {
          "output_type": "display_data",
          "data": {
            "application/javascript": [
              "\n",
              "    async function download(id, filename, size) {\n",
              "      if (!google.colab.kernel.accessAllowed) {\n",
              "        return;\n",
              "      }\n",
              "      const div = document.createElement('div');\n",
              "      const label = document.createElement('label');\n",
              "      label.textContent = `Downloading \"${filename}\": `;\n",
              "      div.appendChild(label);\n",
              "      const progress = document.createElement('progress');\n",
              "      progress.max = size;\n",
              "      div.appendChild(progress);\n",
              "      document.body.appendChild(div);\n",
              "\n",
              "      const buffers = [];\n",
              "      let downloaded = 0;\n",
              "\n",
              "      const channel = await google.colab.kernel.comms.open(id);\n",
              "      // Send a message to notify the kernel that we're ready.\n",
              "      channel.send({})\n",
              "\n",
              "      for await (const message of channel.messages) {\n",
              "        // Send a message to notify the kernel that we're ready.\n",
              "        channel.send({})\n",
              "        if (message.buffers) {\n",
              "          for (const buffer of message.buffers) {\n",
              "            buffers.push(buffer);\n",
              "            downloaded += buffer.byteLength;\n",
              "            progress.value = downloaded;\n",
              "          }\n",
              "        }\n",
              "      }\n",
              "      const blob = new Blob(buffers, {type: 'application/binary'});\n",
              "      const a = document.createElement('a');\n",
              "      a.href = window.URL.createObjectURL(blob);\n",
              "      a.download = filename;\n",
              "      div.appendChild(a);\n",
              "      a.click();\n",
              "      div.remove();\n",
              "    }\n",
              "  "
            ],
            "text/plain": [
              "<IPython.core.display.Javascript object>"
            ]
          },
          "metadata": {
            "tags": []
          }
        },
        {
          "output_type": "display_data",
          "data": {
            "application/javascript": [
              "download(\"download_eeeb554b-fde3-4b4d-84ba-0999df411173\", \"comments.csv\", 15044657)"
            ],
            "text/plain": [
              "<IPython.core.display.Javascript object>"
            ]
          },
          "metadata": {
            "tags": []
          }
        }
      ]
    },
    {
      "cell_type": "code",
      "metadata": {
        "id": "KO8FpunuI3cR"
      },
      "source": [
        "# Brandy\n",
        "from google.colab import files\n",
        "def download_colab(df, file_name):\n",
        "  df.to_csv(file_name)\n",
        "  files.download(file_name)\n",
        "download_colab(cleaned_recipes_df,'recipes.csv')"
      ],
      "execution_count": null,
      "outputs": []
    },
    {
      "cell_type": "code",
      "metadata": {
        "colab": {
          "base_uri": "https://localhost:8080/",
          "height": 1000
        },
        "id": "eMIL7BcUbudQ",
        "outputId": "7a74ac94-2bf7-4f8f-9825-431cd0be3d9a"
      },
      "source": [
        "cleaned_recipes_df"
      ],
      "execution_count": null,
      "outputs": [
        {
          "output_type": "execute_result",
          "data": {
            "text/html": [
              "<div>\n",
              "<style scoped>\n",
              "    .dataframe tbody tr th:only-of-type {\n",
              "        vertical-align: middle;\n",
              "    }\n",
              "\n",
              "    .dataframe tbody tr th {\n",
              "        vertical-align: top;\n",
              "    }\n",
              "\n",
              "    .dataframe thead th {\n",
              "        text-align: right;\n",
              "    }\n",
              "</style>\n",
              "<table border=\"1\" class=\"dataframe\">\n",
              "  <thead>\n",
              "    <tr style=\"text-align: right;\">\n",
              "      <th></th>\n",
              "      <th>Recipe_name</th>\n",
              "      <th>Review_count</th>\n",
              "      <th>Recipe_photo</th>\n",
              "      <th>Author</th>\n",
              "      <th>Prepare_time</th>\n",
              "      <th>Cook_time</th>\n",
              "      <th>Total_time</th>\n",
              "      <th>Ingredients</th>\n",
              "      <th>Directions</th>\n",
              "      <th>RecipeID</th>\n",
              "      <th>Ingredient_list</th>\n",
              "    </tr>\n",
              "  </thead>\n",
              "  <tbody>\n",
              "    <tr>\n",
              "      <th>0</th>\n",
              "      <td>Golden Crescent Rolls Recipe</td>\n",
              "      <td>304</td>\n",
              "      <td>https://images.media-allrecipes.com/userphotos...</td>\n",
              "      <td>Mike A.</td>\n",
              "      <td>25</td>\n",
              "      <td>15</td>\n",
              "      <td>190</td>\n",
              "      <td>yeast,water,white sugar,salt,egg,butter,flour,...</td>\n",
              "      <td>Dissolve yeast in warm water.**Stir in sugar, ...</td>\n",
              "      <td>7000</td>\n",
              "      <td>[yeast, water, white sugar, salt, egg, butter,...</td>\n",
              "    </tr>\n",
              "    <tr>\n",
              "      <th>1</th>\n",
              "      <td>Poppy Seed Bread with Glaze Recipe</td>\n",
              "      <td>137</td>\n",
              "      <td>https://images.media-allrecipes.com/userphotos...</td>\n",
              "      <td>Christina Jun</td>\n",
              "      <td>15</td>\n",
              "      <td>60</td>\n",
              "      <td>80</td>\n",
              "      <td>flour,salt,baking powder,poppy,butter,vegetabl...</td>\n",
              "      <td>Preheat oven to 350 degrees F (175 degrees C)....</td>\n",
              "      <td>7001</td>\n",
              "      <td>[flour, salt, baking powder, poppy, butter, ve...</td>\n",
              "    </tr>\n",
              "    <tr>\n",
              "      <th>2</th>\n",
              "      <td>Applesauce Bread I Recipe</td>\n",
              "      <td>124</td>\n",
              "      <td>https://images.media-allrecipes.com/userphotos...</td>\n",
              "      <td>GAF55</td>\n",
              "      <td>10</td>\n",
              "      <td>80</td>\n",
              "      <td>90</td>\n",
              "      <td>flour,egg,white sugar,vegetable oil,applesauce...</td>\n",
              "      <td>Preheat oven to 350 degrees F (175 degrees C)....</td>\n",
              "      <td>7003</td>\n",
              "      <td>[flour, egg, white sugar, vegetable oil, apple...</td>\n",
              "    </tr>\n",
              "    <tr>\n",
              "      <th>3</th>\n",
              "      <td>Apple Raisin Bread Recipe</td>\n",
              "      <td>39</td>\n",
              "      <td>https://images.media-allrecipes.com/userphotos...</td>\n",
              "      <td>Helen Hanson</td>\n",
              "      <td>15</td>\n",
              "      <td>60</td>\n",
              "      <td>75</td>\n",
              "      <td>flour,baking powder,baking soda,salt,cinnamon,...</td>\n",
              "      <td>Preheat oven to 350 degrees F (175 degrees C)....</td>\n",
              "      <td>7006</td>\n",
              "      <td>[flour, baking powder, baking soda, salt, cinn...</td>\n",
              "    </tr>\n",
              "    <tr>\n",
              "      <th>4</th>\n",
              "      <td>Buttermilk Oatmeal Bread Recipe</td>\n",
              "      <td>41</td>\n",
              "      <td>https://images.media-allrecipes.com/userphotos...</td>\n",
              "      <td>Helen Hanson</td>\n",
              "      <td>10</td>\n",
              "      <td>60</td>\n",
              "      <td>100</td>\n",
              "      <td>oat,buttermilk,vegetable oil,egg,brown sugar,f...</td>\n",
              "      <td>Mix oats with buttermilk.  Let stand for 1/2 h...</td>\n",
              "      <td>7007</td>\n",
              "      <td>[oat, buttermilk, vegetable oil, egg, brown su...</td>\n",
              "    </tr>\n",
              "    <tr>\n",
              "      <th>...</th>\n",
              "      <td>...</td>\n",
              "      <td>...</td>\n",
              "      <td>...</td>\n",
              "      <td>...</td>\n",
              "      <td>...</td>\n",
              "      <td>...</td>\n",
              "      <td>...</td>\n",
              "      <td>...</td>\n",
              "      <td>...</td>\n",
              "      <td>...</td>\n",
              "      <td>...</td>\n",
              "    </tr>\n",
              "    <tr>\n",
              "      <th>12346</th>\n",
              "      <td>Hot Coffee Frosting Recipe</td>\n",
              "      <td>5</td>\n",
              "      <td>https://images.media-allrecipes.com/userphotos...</td>\n",
              "      <td>Jean</td>\n",
              "      <td>30</td>\n",
              "      <td>30</td>\n",
              "      <td>60</td>\n",
              "      <td>sugar,butter,cocoa powder,vanilla,coffee</td>\n",
              "      <td>In a large bowl, combine confectioners sugar, ...</td>\n",
              "      <td>27456</td>\n",
              "      <td>[sugar, butter, cocoa powder, vanilla, coffee]</td>\n",
              "    </tr>\n",
              "    <tr>\n",
              "      <th>12347</th>\n",
              "      <td>White Chocolate Blueberry Cheesecake Recipe</td>\n",
              "      <td>78</td>\n",
              "      <td>https://images.media-allrecipes.com/userphotos...</td>\n",
              "      <td>Scott M.</td>\n",
              "      <td>20</td>\n",
              "      <td>60</td>\n",
              "      <td>80</td>\n",
              "      <td>CRUST:,ham,almond,white sugar,butter,caramel,F...</td>\n",
              "      <td>Preheat oven to 275 degrees F (135 degrees C)....</td>\n",
              "      <td>27478</td>\n",
              "      <td>[CRUST:, ham, almond, white sugar, butter, car...</td>\n",
              "    </tr>\n",
              "    <tr>\n",
              "      <th>12348</th>\n",
              "      <td>'Aunt Anne''s Coffee Cake Recipe '</td>\n",
              "      <td>704</td>\n",
              "      <td>https://images.media-allrecipes.com/userphotos...</td>\n",
              "      <td>Mary</td>\n",
              "      <td>20</td>\n",
              "      <td>25</td>\n",
              "      <td>45</td>\n",
              "      <td>flour,white sugar,baking powder,salt,butter,eg...</td>\n",
              "      <td>Preheat oven to 350 degrees F (175 degrees C)....</td>\n",
              "      <td>27491</td>\n",
              "      <td>[flour, white sugar, baking powder, salt, butt...</td>\n",
              "    </tr>\n",
              "    <tr>\n",
              "      <th>12349</th>\n",
              "      <td>Giant Ding Dong Cake Recipe</td>\n",
              "      <td>157</td>\n",
              "      <td>https://images.media-allrecipes.com/userphotos...</td>\n",
              "      <td>TheThreeDogKitchen</td>\n",
              "      <td>25</td>\n",
              "      <td>50</td>\n",
              "      <td>135</td>\n",
              "      <td>cake,chocolate,egg,water,vegetable oil,flour,m...</td>\n",
              "      <td>Preheat oven to 350 degrees F (175 degrees C)....</td>\n",
              "      <td>27511</td>\n",
              "      <td>[cake, chocolate, egg, water, vegetable oil, f...</td>\n",
              "    </tr>\n",
              "    <tr>\n",
              "      <th>12350</th>\n",
              "      <td>Peach Coffee Cake Recipe</td>\n",
              "      <td>10</td>\n",
              "      <td>https://images.media-allrecipes.com/userphotos...</td>\n",
              "      <td>David</td>\n",
              "      <td>15</td>\n",
              "      <td>50</td>\n",
              "      <td>65</td>\n",
              "      <td>peach,brown sugar,cornstarch,vegetable oil,flo...</td>\n",
              "      <td>Preheat oven to 350 degrees F (175 degrees C)....</td>\n",
              "      <td>27546</td>\n",
              "      <td>[peach, brown sugar, cornstarch, vegetable oil...</td>\n",
              "    </tr>\n",
              "  </tbody>\n",
              "</table>\n",
              "<p>6409 rows × 11 columns</p>\n",
              "</div>"
            ],
            "text/plain": [
              "                                        Recipe_name  ...                                    Ingredient_list\n",
              "0                     Golden Crescent Rolls Recipe   ...  [yeast, water, white sugar, salt, egg, butter,...\n",
              "1               Poppy Seed Bread with Glaze Recipe   ...  [flour, salt, baking powder, poppy, butter, ve...\n",
              "2                        Applesauce Bread I Recipe   ...  [flour, egg, white sugar, vegetable oil, apple...\n",
              "3                        Apple Raisin Bread Recipe   ...  [flour, baking powder, baking soda, salt, cinn...\n",
              "4                  Buttermilk Oatmeal Bread Recipe   ...  [oat, buttermilk, vegetable oil, egg, brown su...\n",
              "...                                             ...  ...                                                ...\n",
              "12346                   Hot Coffee Frosting Recipe   ...     [sugar, butter, cocoa powder, vanilla, coffee]\n",
              "12347  White Chocolate Blueberry Cheesecake Recipe   ...  [CRUST:, ham, almond, white sugar, butter, car...\n",
              "12348            'Aunt Anne''s Coffee Cake Recipe '  ...  [flour, white sugar, baking powder, salt, butt...\n",
              "12349                  Giant Ding Dong Cake Recipe   ...  [cake, chocolate, egg, water, vegetable oil, f...\n",
              "12350                     Peach Coffee Cake Recipe   ...  [peach, brown sugar, cornstarch, vegetable oil...\n",
              "\n",
              "[6409 rows x 11 columns]"
            ]
          },
          "metadata": {
            "tags": []
          },
          "execution_count": 24
        }
      ]
    },
    {
      "cell_type": "code",
      "metadata": {
        "colab": {
          "base_uri": "https://localhost:8080/",
          "height": 17
        },
        "id": "J84ftwq4F9fU",
        "outputId": "56b27f43-2c7b-4b0c-f3a3-cd5ea5cf176b"
      },
      "source": [
        "download_colab(cleaned_recipes_df,'recipes.csv')"
      ],
      "execution_count": null,
      "outputs": [
        {
          "output_type": "display_data",
          "data": {
            "application/javascript": [
              "\n",
              "    async function download(id, filename, size) {\n",
              "      if (!google.colab.kernel.accessAllowed) {\n",
              "        return;\n",
              "      }\n",
              "      const div = document.createElement('div');\n",
              "      const label = document.createElement('label');\n",
              "      label.textContent = `Downloading \"${filename}\": `;\n",
              "      div.appendChild(label);\n",
              "      const progress = document.createElement('progress');\n",
              "      progress.max = size;\n",
              "      div.appendChild(progress);\n",
              "      document.body.appendChild(div);\n",
              "\n",
              "      const buffers = [];\n",
              "      let downloaded = 0;\n",
              "\n",
              "      const channel = await google.colab.kernel.comms.open(id);\n",
              "      // Send a message to notify the kernel that we're ready.\n",
              "      channel.send({})\n",
              "\n",
              "      for await (const message of channel.messages) {\n",
              "        // Send a message to notify the kernel that we're ready.\n",
              "        channel.send({})\n",
              "        if (message.buffers) {\n",
              "          for (const buffer of message.buffers) {\n",
              "            buffers.push(buffer);\n",
              "            downloaded += buffer.byteLength;\n",
              "            progress.value = downloaded;\n",
              "          }\n",
              "        }\n",
              "      }\n",
              "      const blob = new Blob(buffers, {type: 'application/binary'});\n",
              "      const a = document.createElement('a');\n",
              "      a.href = window.URL.createObjectURL(blob);\n",
              "      a.download = filename;\n",
              "      div.appendChild(a);\n",
              "      a.click();\n",
              "      div.remove();\n",
              "    }\n",
              "  "
            ],
            "text/plain": [
              "<IPython.core.display.Javascript object>"
            ]
          },
          "metadata": {
            "tags": []
          }
        },
        {
          "output_type": "display_data",
          "data": {
            "application/javascript": [
              "download(\"download_6c3b12e4-41d2-4b2b-8ce4-102f7668c2b3\", \"recipes.csv\", 5279365)"
            ],
            "text/plain": [
              "<IPython.core.display.Javascript object>"
            ]
          },
          "metadata": {
            "tags": []
          }
        }
      ]
    },
    {
      "cell_type": "code",
      "metadata": {
        "colab": {
          "base_uri": "https://localhost:8080/",
          "height": 17
        },
        "id": "NHgqWDjSqKlT",
        "outputId": "4b457263-e0e8-4ec7-825e-79832463fb4e"
      },
      "source": [
        "download_colab(recipe_ingredient,'recipe_ingredient.csv')\n",
        "download_colab(cleaned_reviews_df,'reviews.csv')"
      ],
      "execution_count": null,
      "outputs": [
        {
          "output_type": "display_data",
          "data": {
            "application/javascript": [
              "\n",
              "    async function download(id, filename, size) {\n",
              "      if (!google.colab.kernel.accessAllowed) {\n",
              "        return;\n",
              "      }\n",
              "      const div = document.createElement('div');\n",
              "      const label = document.createElement('label');\n",
              "      label.textContent = `Downloading \"${filename}\": `;\n",
              "      div.appendChild(label);\n",
              "      const progress = document.createElement('progress');\n",
              "      progress.max = size;\n",
              "      div.appendChild(progress);\n",
              "      document.body.appendChild(div);\n",
              "\n",
              "      const buffers = [];\n",
              "      let downloaded = 0;\n",
              "\n",
              "      const channel = await google.colab.kernel.comms.open(id);\n",
              "      // Send a message to notify the kernel that we're ready.\n",
              "      channel.send({})\n",
              "\n",
              "      for await (const message of channel.messages) {\n",
              "        // Send a message to notify the kernel that we're ready.\n",
              "        channel.send({})\n",
              "        if (message.buffers) {\n",
              "          for (const buffer of message.buffers) {\n",
              "            buffers.push(buffer);\n",
              "            downloaded += buffer.byteLength;\n",
              "            progress.value = downloaded;\n",
              "          }\n",
              "        }\n",
              "      }\n",
              "      const blob = new Blob(buffers, {type: 'application/binary'});\n",
              "      const a = document.createElement('a');\n",
              "      a.href = window.URL.createObjectURL(blob);\n",
              "      a.download = filename;\n",
              "      div.appendChild(a);\n",
              "      a.click();\n",
              "      div.remove();\n",
              "    }\n",
              "  "
            ],
            "text/plain": [
              "<IPython.core.display.Javascript object>"
            ]
          },
          "metadata": {
            "tags": []
          }
        },
        {
          "output_type": "display_data",
          "data": {
            "application/javascript": [
              "download(\"download_7f7700da-0a5c-47ae-bad8-918ed61d2b59\", \"recipe_ingredient.csv\", 1962672)"
            ],
            "text/plain": [
              "<IPython.core.display.Javascript object>"
            ]
          },
          "metadata": {
            "tags": []
          }
        },
        {
          "output_type": "display_data",
          "data": {
            "application/javascript": [
              "\n",
              "    async function download(id, filename, size) {\n",
              "      if (!google.colab.kernel.accessAllowed) {\n",
              "        return;\n",
              "      }\n",
              "      const div = document.createElement('div');\n",
              "      const label = document.createElement('label');\n",
              "      label.textContent = `Downloading \"${filename}\": `;\n",
              "      div.appendChild(label);\n",
              "      const progress = document.createElement('progress');\n",
              "      progress.max = size;\n",
              "      div.appendChild(progress);\n",
              "      document.body.appendChild(div);\n",
              "\n",
              "      const buffers = [];\n",
              "      let downloaded = 0;\n",
              "\n",
              "      const channel = await google.colab.kernel.comms.open(id);\n",
              "      // Send a message to notify the kernel that we're ready.\n",
              "      channel.send({})\n",
              "\n",
              "      for await (const message of channel.messages) {\n",
              "        // Send a message to notify the kernel that we're ready.\n",
              "        channel.send({})\n",
              "        if (message.buffers) {\n",
              "          for (const buffer of message.buffers) {\n",
              "            buffers.push(buffer);\n",
              "            downloaded += buffer.byteLength;\n",
              "            progress.value = downloaded;\n",
              "          }\n",
              "        }\n",
              "      }\n",
              "      const blob = new Blob(buffers, {type: 'application/binary'});\n",
              "      const a = document.createElement('a');\n",
              "      a.href = window.URL.createObjectURL(blob);\n",
              "      a.download = filename;\n",
              "      div.appendChild(a);\n",
              "      a.click();\n",
              "      div.remove();\n",
              "    }\n",
              "  "
            ],
            "text/plain": [
              "<IPython.core.display.Javascript object>"
            ]
          },
          "metadata": {
            "tags": []
          }
        },
        {
          "output_type": "display_data",
          "data": {
            "application/javascript": [
              "download(\"download_347393bd-0378-46e8-a51a-edbe577aa70c\", \"reviews.csv\", 239958)"
            ],
            "text/plain": [
              "<IPython.core.display.Javascript object>"
            ]
          },
          "metadata": {
            "tags": []
          }
        }
      ]
    },
    {
      "cell_type": "code",
      "metadata": {
        "colab": {
          "base_uri": "https://localhost:8080/",
          "height": 17
        },
        "id": "j9aMO42cB-Ad",
        "outputId": "0bafed4b-9e68-476d-ea60-acc9b783feb2"
      },
      "source": [
        "download_colab(recipe_author,'recipe_author.csv')"
      ],
      "execution_count": null,
      "outputs": [
        {
          "output_type": "display_data",
          "data": {
            "application/javascript": [
              "\n",
              "    async function download(id, filename, size) {\n",
              "      if (!google.colab.kernel.accessAllowed) {\n",
              "        return;\n",
              "      }\n",
              "      const div = document.createElement('div');\n",
              "      const label = document.createElement('label');\n",
              "      label.textContent = `Downloading \"${filename}\": `;\n",
              "      div.appendChild(label);\n",
              "      const progress = document.createElement('progress');\n",
              "      progress.max = size;\n",
              "      div.appendChild(progress);\n",
              "      document.body.appendChild(div);\n",
              "\n",
              "      const buffers = [];\n",
              "      let downloaded = 0;\n",
              "\n",
              "      const channel = await google.colab.kernel.comms.open(id);\n",
              "      // Send a message to notify the kernel that we're ready.\n",
              "      channel.send({})\n",
              "\n",
              "      for await (const message of channel.messages) {\n",
              "        // Send a message to notify the kernel that we're ready.\n",
              "        channel.send({})\n",
              "        if (message.buffers) {\n",
              "          for (const buffer of message.buffers) {\n",
              "            buffers.push(buffer);\n",
              "            downloaded += buffer.byteLength;\n",
              "            progress.value = downloaded;\n",
              "          }\n",
              "        }\n",
              "      }\n",
              "      const blob = new Blob(buffers, {type: 'application/binary'});\n",
              "      const a = document.createElement('a');\n",
              "      a.href = window.URL.createObjectURL(blob);\n",
              "      a.download = filename;\n",
              "      div.appendChild(a);\n",
              "      a.click();\n",
              "      div.remove();\n",
              "    }\n",
              "  "
            ],
            "text/plain": [
              "<IPython.core.display.Javascript object>"
            ]
          },
          "metadata": {
            "tags": []
          }
        },
        {
          "output_type": "display_data",
          "data": {
            "application/javascript": [
              "download(\"download_b46184a2-f343-44a2-a086-b8000b9e1f98\", \"recipe_author.csv\", 133564)"
            ],
            "text/plain": [
              "<IPython.core.display.Javascript object>"
            ]
          },
          "metadata": {
            "tags": []
          }
        }
      ]
    },
    {
      "cell_type": "code",
      "metadata": {
        "colab": {
          "base_uri": "https://localhost:8080/",
          "height": 1000
        },
        "id": "RPf65OQcEtsJ",
        "outputId": "995774f9-a28e-4c33-cb7d-a6d5e4d21e4a"
      },
      "source": [
        ""
      ],
      "execution_count": null,
      "outputs": [
        {
          "output_type": "execute_result",
          "data": {
            "text/html": [
              "<div>\n",
              "<style scoped>\n",
              "    .dataframe tbody tr th:only-of-type {\n",
              "        vertical-align: middle;\n",
              "    }\n",
              "\n",
              "    .dataframe tbody tr th {\n",
              "        vertical-align: top;\n",
              "    }\n",
              "\n",
              "    .dataframe thead th {\n",
              "        text-align: right;\n",
              "    }\n",
              "</style>\n",
              "<table border=\"1\" class=\"dataframe\">\n",
              "  <thead>\n",
              "    <tr style=\"text-align: right;\">\n",
              "      <th></th>\n",
              "      <th>Recipe_name</th>\n",
              "      <th>Review_count</th>\n",
              "      <th>Recipe_photo</th>\n",
              "      <th>Author</th>\n",
              "      <th>Prepare_time</th>\n",
              "      <th>Cook_time</th>\n",
              "      <th>Total_time</th>\n",
              "      <th>Ingredients</th>\n",
              "      <th>Directions</th>\n",
              "      <th>RecipeID</th>\n",
              "      <th>Ingredient_list</th>\n",
              "    </tr>\n",
              "  </thead>\n",
              "  <tbody>\n",
              "    <tr>\n",
              "      <th>0</th>\n",
              "      <td>Golden Crescent Rolls Recipe</td>\n",
              "      <td>304</td>\n",
              "      <td>https://images.media-allrecipes.com/userphotos...</td>\n",
              "      <td>Mike A.</td>\n",
              "      <td>25</td>\n",
              "      <td>15</td>\n",
              "      <td>190</td>\n",
              "      <td>yeast,water,white sugar,salt,egg,butter,flour,...</td>\n",
              "      <td>Dissolve yeast in warm water.**Stir in sugar, ...</td>\n",
              "      <td>7000</td>\n",
              "      <td>[yeast, water, white sugar, salt, egg, butter,...</td>\n",
              "    </tr>\n",
              "    <tr>\n",
              "      <th>1</th>\n",
              "      <td>Poppy Seed Bread with Glaze Recipe</td>\n",
              "      <td>137</td>\n",
              "      <td>https://images.media-allrecipes.com/userphotos...</td>\n",
              "      <td>Christina Jun</td>\n",
              "      <td>15</td>\n",
              "      <td>60</td>\n",
              "      <td>80</td>\n",
              "      <td>flour,salt,baking powder,poppy,butter,vegetabl...</td>\n",
              "      <td>Preheat oven to 350 degrees F (175 degrees C)....</td>\n",
              "      <td>7001</td>\n",
              "      <td>[flour, salt, baking powder, poppy, butter, ve...</td>\n",
              "    </tr>\n",
              "    <tr>\n",
              "      <th>2</th>\n",
              "      <td>Applesauce Bread I Recipe</td>\n",
              "      <td>124</td>\n",
              "      <td>https://images.media-allrecipes.com/userphotos...</td>\n",
              "      <td>GAF55</td>\n",
              "      <td>10</td>\n",
              "      <td>80</td>\n",
              "      <td>90</td>\n",
              "      <td>flour,egg,white sugar,vegetable oil,applesauce...</td>\n",
              "      <td>Preheat oven to 350 degrees F (175 degrees C)....</td>\n",
              "      <td>7003</td>\n",
              "      <td>[flour, egg, white sugar, vegetable oil, apple...</td>\n",
              "    </tr>\n",
              "    <tr>\n",
              "      <th>3</th>\n",
              "      <td>Apple Raisin Bread Recipe</td>\n",
              "      <td>39</td>\n",
              "      <td>https://images.media-allrecipes.com/userphotos...</td>\n",
              "      <td>Helen Hanson</td>\n",
              "      <td>15</td>\n",
              "      <td>60</td>\n",
              "      <td>75</td>\n",
              "      <td>flour,baking powder,baking soda,salt,cinnamon,...</td>\n",
              "      <td>Preheat oven to 350 degrees F (175 degrees C)....</td>\n",
              "      <td>7006</td>\n",
              "      <td>[flour, baking powder, baking soda, salt, cinn...</td>\n",
              "    </tr>\n",
              "    <tr>\n",
              "      <th>4</th>\n",
              "      <td>Buttermilk Oatmeal Bread Recipe</td>\n",
              "      <td>41</td>\n",
              "      <td>https://images.media-allrecipes.com/userphotos...</td>\n",
              "      <td>Helen Hanson</td>\n",
              "      <td>10</td>\n",
              "      <td>60</td>\n",
              "      <td>100</td>\n",
              "      <td>oat,buttermilk,vegetable oil,egg,brown sugar,f...</td>\n",
              "      <td>Mix oats with buttermilk.  Let stand for 1/2 h...</td>\n",
              "      <td>7007</td>\n",
              "      <td>[oat, buttermilk, vegetable oil, egg, brown su...</td>\n",
              "    </tr>\n",
              "    <tr>\n",
              "      <th>...</th>\n",
              "      <td>...</td>\n",
              "      <td>...</td>\n",
              "      <td>...</td>\n",
              "      <td>...</td>\n",
              "      <td>...</td>\n",
              "      <td>...</td>\n",
              "      <td>...</td>\n",
              "      <td>...</td>\n",
              "      <td>...</td>\n",
              "      <td>...</td>\n",
              "      <td>...</td>\n",
              "    </tr>\n",
              "    <tr>\n",
              "      <th>12346</th>\n",
              "      <td>Hot Coffee Frosting Recipe</td>\n",
              "      <td>5</td>\n",
              "      <td>https://images.media-allrecipes.com/userphotos...</td>\n",
              "      <td>Jean</td>\n",
              "      <td>30</td>\n",
              "      <td>30</td>\n",
              "      <td>60</td>\n",
              "      <td>sugar,butter,cocoa powder,vanilla,coffee</td>\n",
              "      <td>In a large bowl, combine confectioners sugar, ...</td>\n",
              "      <td>27456</td>\n",
              "      <td>[sugar, butter, cocoa powder, vanilla, coffee]</td>\n",
              "    </tr>\n",
              "    <tr>\n",
              "      <th>12347</th>\n",
              "      <td>White Chocolate Blueberry Cheesecake Recipe</td>\n",
              "      <td>78</td>\n",
              "      <td>https://images.media-allrecipes.com/userphotos...</td>\n",
              "      <td>Scott M.</td>\n",
              "      <td>20</td>\n",
              "      <td>60</td>\n",
              "      <td>80</td>\n",
              "      <td>CRUST:,ham,almond,white sugar,butter,caramel,F...</td>\n",
              "      <td>Preheat oven to 275 degrees F (135 degrees C)....</td>\n",
              "      <td>27478</td>\n",
              "      <td>[CRUST:, ham, almond, white sugar, butter, car...</td>\n",
              "    </tr>\n",
              "    <tr>\n",
              "      <th>12348</th>\n",
              "      <td>'Aunt Anne''s Coffee Cake Recipe '</td>\n",
              "      <td>704</td>\n",
              "      <td>https://images.media-allrecipes.com/userphotos...</td>\n",
              "      <td>Mary</td>\n",
              "      <td>20</td>\n",
              "      <td>25</td>\n",
              "      <td>45</td>\n",
              "      <td>flour,white sugar,baking powder,salt,butter,eg...</td>\n",
              "      <td>Preheat oven to 350 degrees F (175 degrees C)....</td>\n",
              "      <td>27491</td>\n",
              "      <td>[flour, white sugar, baking powder, salt, butt...</td>\n",
              "    </tr>\n",
              "    <tr>\n",
              "      <th>12349</th>\n",
              "      <td>Giant Ding Dong Cake Recipe</td>\n",
              "      <td>157</td>\n",
              "      <td>https://images.media-allrecipes.com/userphotos...</td>\n",
              "      <td>TheThreeDogKitchen</td>\n",
              "      <td>25</td>\n",
              "      <td>50</td>\n",
              "      <td>135</td>\n",
              "      <td>cake,chocolate,egg,water,vegetable oil,flour,m...</td>\n",
              "      <td>Preheat oven to 350 degrees F (175 degrees C)....</td>\n",
              "      <td>27511</td>\n",
              "      <td>[cake, chocolate, egg, water, vegetable oil, f...</td>\n",
              "    </tr>\n",
              "    <tr>\n",
              "      <th>12350</th>\n",
              "      <td>Peach Coffee Cake Recipe</td>\n",
              "      <td>10</td>\n",
              "      <td>https://images.media-allrecipes.com/userphotos...</td>\n",
              "      <td>David</td>\n",
              "      <td>15</td>\n",
              "      <td>50</td>\n",
              "      <td>65</td>\n",
              "      <td>peach,brown sugar,cornstarch,vegetable oil,flo...</td>\n",
              "      <td>Preheat oven to 350 degrees F (175 degrees C)....</td>\n",
              "      <td>27546</td>\n",
              "      <td>[peach, brown sugar, cornstarch, vegetable oil...</td>\n",
              "    </tr>\n",
              "  </tbody>\n",
              "</table>\n",
              "<p>6409 rows × 11 columns</p>\n",
              "</div>"
            ],
            "text/plain": [
              "                                        Recipe_name  ...                                    Ingredient_list\n",
              "0                     Golden Crescent Rolls Recipe   ...  [yeast, water, white sugar, salt, egg, butter,...\n",
              "1               Poppy Seed Bread with Glaze Recipe   ...  [flour, salt, baking powder, poppy, butter, ve...\n",
              "2                        Applesauce Bread I Recipe   ...  [flour, egg, white sugar, vegetable oil, apple...\n",
              "3                        Apple Raisin Bread Recipe   ...  [flour, baking powder, baking soda, salt, cinn...\n",
              "4                  Buttermilk Oatmeal Bread Recipe   ...  [oat, buttermilk, vegetable oil, egg, brown su...\n",
              "...                                             ...  ...                                                ...\n",
              "12346                   Hot Coffee Frosting Recipe   ...     [sugar, butter, cocoa powder, vanilla, coffee]\n",
              "12347  White Chocolate Blueberry Cheesecake Recipe   ...  [CRUST:, ham, almond, white sugar, butter, car...\n",
              "12348            'Aunt Anne''s Coffee Cake Recipe '  ...  [flour, white sugar, baking powder, salt, butt...\n",
              "12349                  Giant Ding Dong Cake Recipe   ...  [cake, chocolate, egg, water, vegetable oil, f...\n",
              "12350                     Peach Coffee Cake Recipe   ...  [peach, brown sugar, cornstarch, vegetable oil...\n",
              "\n",
              "[6409 rows x 11 columns]"
            ]
          },
          "metadata": {
            "tags": []
          },
          "execution_count": 13
        }
      ]
    },
    {
      "cell_type": "code",
      "metadata": {
        "colab": {
          "base_uri": "https://localhost:8080/",
          "height": 164
        },
        "id": "UHzxdM7JEv_J",
        "outputId": "2e493c58-46c3-4b5e-c4b4-7957b38607f0"
      },
      "source": [
        ""
      ],
      "execution_count": null,
      "outputs": [
        {
          "output_type": "error",
          "ename": "NameError",
          "evalue": "ignored",
          "traceback": [
            "\u001b[0;31m---------------------------------------------------------------------------\u001b[0m",
            "\u001b[0;31mNameError\u001b[0m                                 Traceback (most recent call last)",
            "\u001b[0;32m<ipython-input-17-a4ff368c075f>\u001b[0m in \u001b[0;36m<module>\u001b[0;34m()\u001b[0m\n\u001b[0;32m----> 1\u001b[0;31m \u001b[0mcleaned_recipes\u001b[0m\u001b[0;34m\u001b[0m\u001b[0;34m\u001b[0m\u001b[0m\n\u001b[0m",
            "\u001b[0;31mNameError\u001b[0m: name 'cleaned_recipes' is not defined"
          ]
        }
      ]
    }
  ]
}